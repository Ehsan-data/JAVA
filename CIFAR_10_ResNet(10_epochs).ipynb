{
  "nbformat": 4,
  "nbformat_minor": 0,
  "metadata": {
    "colab": {
      "name": "CIFAR_10 ResNet(10 epochs).ipynb",
      "provenance": [],
      "collapsed_sections": [],
      "authorship_tag": "ABX9TyMGmh7ymtct6NOWPlaN1HX5",
      "include_colab_link": true
    },
    "kernelspec": {
      "name": "python3",
      "display_name": "Python 3"
    },
    "language_info": {
      "name": "python"
    }
  },
  "cells": [
    {
      "cell_type": "markdown",
      "metadata": {
        "id": "view-in-github",
        "colab_type": "text"
      },
      "source": [
        "<a href=\"https://colab.research.google.com/github/Ehsan-data/JAVA/blob/master/CIFAR_10_ResNet(10_epochs).ipynb\" target=\"_parent\"><img src=\"https://colab.research.google.com/assets/colab-badge.svg\" alt=\"Open In Colab\"/></a>"
      ]
    },
    {
      "cell_type": "code",
      "metadata": {
        "colab": {
          "base_uri": "https://localhost:8080/"
        },
        "id": "OeD7Zf8SK1o2",
        "outputId": "d13291af-015f-4f57-faba-ea777d30e4b5"
      },
      "source": [
        "\n",
        "import torch\n",
        "import torch.nn as nn\n",
        "import torchvision\n",
        "import torchvision.transforms as transforms\n",
        "#checks for GPU\n",
        "device = torch.device('cuda' if torch.cuda.is_available() else 'cpu')\n",
        "\n",
        "# Parameters\n",
        "num_epochs = 10\n",
        "learning_rate = 0.001\n",
        "\n",
        "transform = transforms.Compose([\n",
        "    transforms.Pad(4),\n",
        "    transforms.RandomHorizontalFlip(),\n",
        "    transforms.RandomCrop(32),\n",
        "    transforms.ToTensor()])\n",
        "\n",
        "#  dataset\n",
        "train_dataset = torchvision.datasets.CIFAR10(root='../../data/',\n",
        "                                             train=True, \n",
        "                                             transform=transform,\n",
        "                                             download=True)\n",
        "\n",
        "test_dataset = torchvision.datasets.CIFAR10(root='../../data/',\n",
        "                                            train=False, \n",
        "                                            transform=transforms.ToTensor())\n",
        "\n",
        "# loader\n",
        "train_loader = torch.utils.data.DataLoader(dataset=train_dataset,\n",
        "                                           batch_size=100, \n",
        "                                           shuffle=True)\n",
        "\n",
        "test_loader = torch.utils.data.DataLoader(dataset=test_dataset,\n",
        "                                          batch_size=100, \n",
        "                                          shuffle=False)\n",
        "\n",
        "# convolution\n",
        "def conv_res(in_channels, out_channels, stride=1):\n",
        "    return nn.Conv2d(in_channels, out_channels, kernel_size=3, \n",
        "                     stride=stride, padding=1, bias=False)\n",
        "\n",
        "# Res block\n",
        "class ResidualBlock(nn.Module):\n",
        "    def __init__(self, in_channels, out_channels, stride=1, downsample=None):\n",
        "        super(ResidualBlock, self).__init__()\n",
        "        self.conv1 = conv_res(in_channels, out_channels, stride)\n",
        "        self.bn1 = nn.BatchNorm2d(out_channels)\n",
        "        self.relu = nn.ReLU(inplace=True)\n",
        "        self.conv2 = conv_res(out_channels, out_channels)\n",
        "        self.bn2 = nn.BatchNorm2d(out_channels)\n",
        "        self.downsample = downsample\n",
        "\n",
        "    def forward(self, x):\n",
        "        residual = x\n",
        "        out = self.conv1(x)\n",
        "        out = self.bn1(out)\n",
        "        out = self.relu(out)\n",
        "        out = self.conv2(out)\n",
        "        out = self.bn2(out)\n",
        "        if self.downsample:\n",
        "            residual = self.downsample(x)\n",
        "        out += residual\n",
        "        out = self.relu(out)\n",
        "        return out\n",
        "\n",
        "# ResNet class\n",
        "class ResNet(nn.Module):\n",
        "    def __init__(self, block, layer_arr, num_classes=10):\n",
        "        super(ResNet, self).__init__()\n",
        "        self.in_channels = 16\n",
        "        self.conv = conv_res(3, 16)\n",
        "        self.bn = nn.BatchNorm2d(16)\n",
        "        self.relu = nn.ReLU(inplace=True)\n",
        "        self.layer1 = self.set_layer(block, 16, layer_arr[0])\n",
        "        self.layer2 = self.set_layer(block, 32, layer_arr[1], 2)\n",
        "        self.layer3 = self.set_layer(block, 64, layer_arr[2], 2)\n",
        "        self.avg_pool = nn.AvgPool2d(8)\n",
        "        self.fc = nn.Linear(64, num_classes)\n",
        "\n",
        "    def set_layer(self, block, out_channels, blocks, stride=1):\n",
        "        downsample = None\n",
        "        if (stride != 1) or (self.in_channels != out_channels):\n",
        "            downsample = nn.Sequential(\n",
        "                conv_res(self.in_channels, out_channels, stride=stride),\n",
        "                nn.BatchNorm2d(out_channels))\n",
        "        layer_arr = []\n",
        "        layer_arr.append(block(self.in_channels, out_channels, stride, downsample))\n",
        "        self.in_channels = out_channels\n",
        "        for i in range(1, blocks):\n",
        "            layer_arr.append(block(out_channels, out_channels))\n",
        "        return nn.Sequential(*layer_arr)\n",
        "\n",
        "    def forward(self, x):\n",
        "        out = self.conv(x)\n",
        "        out = self.bn(out)\n",
        "        out = self.relu(out)\n",
        "        out = self.layer1(out)\n",
        "        out = self.layer2(out)\n",
        "        out = self.layer3(out)\n",
        "        out = self.avg_pool(out)\n",
        "        out = out.view(out.size(0), -1)\n",
        "        out = self.fc(out)\n",
        "        return out\n",
        "\n",
        "model = ResNet(ResidualBlock, [2, 2, 2]).to(device)\n",
        "\n",
        "# Loss and optimizer\n",
        "criterion = nn.CrossEntropyLoss()\n",
        "optimizer = torch.optim.Adam(model.parameters(), lr=learning_rate)\n",
        "\n",
        "# learning rate update\n",
        "def update_lr(optimizer, lr):    \n",
        "    for param_group in optimizer.param_groups:\n",
        "        param_group['lr'] = lr\n",
        "\n",
        "# model training\n",
        "tot_step = len(train_loader)\n",
        "curr_lr = learning_rate\n",
        "for epoch in range(num_epochs):\n",
        "    for i, (img, classes) in enumerate(train_loader):\n",
        "        img = img.to(device)\n",
        "        classes = classes.to(device)\n",
        "\n",
        "        # Forward pass\n",
        "        outputs = model(img)\n",
        "        loss = criterion(outputs, classes)\n",
        "\n",
        "        # Backward and optimize\n",
        "        optimizer.zero_grad()\n",
        "        loss.backward()\n",
        "        optimizer.step()\n",
        "\n",
        "        if (i+1) % 100 == 0:\n",
        "            print (\"Epoch [{}/{}], Step [{}/{}] Loss: {:.4f}\"\n",
        "                   .format(epoch+1, num_epochs, i+1, tot_step, loss.item()))\n",
        "\n",
        "    # Decay learning rate\n",
        "    if (epoch+1) % 20 == 0:\n",
        "        curr_lr /= 3\n",
        "        update_lr(optimizer, curr_lr)\n",
        "\n",
        "# model evaluation\n",
        "model.eval()\n",
        "with torch.no_grad():\n",
        "    correct_pred = 0\n",
        "    tot = 0\n",
        "    for img, classes in test_loader:\n",
        "        img = img.to(device)\n",
        "        classes = classes.to(device)\n",
        "        outputs = model(img)\n",
        "        _, pred = torch.max(outputs.data, 1)\n",
        "        tot += classes.size(0)\n",
        "        correct_pred += (pred == classes).sum().item()\n",
        "\n",
        "    print('Accuracy of the model on the test images: {} %'.format(100 * correct_pred / tot))\n",
        "\n",
        "# Saveing the checkpoints\n",
        "torch.save(model.state_dict(), 'resnet.ckpt')\n",
        "\n"
      ],
      "execution_count": null,
      "outputs": [
        {
          "output_type": "stream",
          "name": "stdout",
          "text": [
            "Files already downloaded and verified\n",
            "Epoch [1/10], Step [100/500] Loss: 1.5296\n",
            "Epoch [1/10], Step [200/500] Loss: 1.4502\n",
            "Epoch [1/10], Step [300/500] Loss: 1.1180\n",
            "Epoch [1/10], Step [400/500] Loss: 1.1509\n",
            "Epoch [1/10], Step [500/500] Loss: 1.0823\n",
            "Epoch [2/10], Step [100/500] Loss: 0.9899\n",
            "Epoch [2/10], Step [200/500] Loss: 0.8545\n",
            "Epoch [2/10], Step [300/500] Loss: 0.9672\n",
            "Epoch [2/10], Step [400/500] Loss: 0.8611\n",
            "Epoch [2/10], Step [500/500] Loss: 1.1886\n",
            "Epoch [3/10], Step [100/500] Loss: 1.0470\n",
            "Epoch [3/10], Step [200/500] Loss: 1.0025\n",
            "Epoch [3/10], Step [300/500] Loss: 0.8506\n",
            "Epoch [3/10], Step [400/500] Loss: 0.8678\n",
            "Epoch [3/10], Step [500/500] Loss: 0.6630\n",
            "Epoch [4/10], Step [100/500] Loss: 0.6731\n",
            "Epoch [4/10], Step [200/500] Loss: 0.8746\n",
            "Epoch [4/10], Step [300/500] Loss: 0.7173\n",
            "Epoch [4/10], Step [400/500] Loss: 0.7524\n",
            "Epoch [4/10], Step [500/500] Loss: 0.6104\n",
            "Epoch [5/10], Step [100/500] Loss: 0.8467\n",
            "Epoch [5/10], Step [200/500] Loss: 0.6617\n",
            "Epoch [5/10], Step [300/500] Loss: 0.5724\n",
            "Epoch [5/10], Step [400/500] Loss: 0.7668\n",
            "Epoch [5/10], Step [500/500] Loss: 0.6691\n",
            "Epoch [6/10], Step [100/500] Loss: 0.6295\n",
            "Epoch [6/10], Step [200/500] Loss: 0.4382\n",
            "Epoch [6/10], Step [300/500] Loss: 0.7372\n",
            "Epoch [6/10], Step [400/500] Loss: 0.5997\n",
            "Epoch [6/10], Step [500/500] Loss: 0.6472\n",
            "Epoch [7/10], Step [100/500] Loss: 0.5629\n",
            "Epoch [7/10], Step [200/500] Loss: 0.6142\n",
            "Epoch [7/10], Step [300/500] Loss: 0.6581\n",
            "Epoch [7/10], Step [400/500] Loss: 0.4885\n",
            "Epoch [7/10], Step [500/500] Loss: 0.5651\n",
            "Epoch [8/10], Step [100/500] Loss: 0.4938\n",
            "Epoch [8/10], Step [200/500] Loss: 0.6830\n",
            "Epoch [8/10], Step [300/500] Loss: 0.5717\n",
            "Epoch [8/10], Step [400/500] Loss: 0.5103\n",
            "Epoch [8/10], Step [500/500] Loss: 0.4860\n",
            "Epoch [9/10], Step [100/500] Loss: 0.5376\n",
            "Epoch [9/10], Step [200/500] Loss: 0.4284\n",
            "Epoch [9/10], Step [300/500] Loss: 0.4672\n",
            "Epoch [9/10], Step [400/500] Loss: 0.4418\n",
            "Epoch [9/10], Step [500/500] Loss: 0.5185\n",
            "Epoch [10/10], Step [100/500] Loss: 0.6911\n",
            "Epoch [10/10], Step [200/500] Loss: 0.4265\n",
            "Epoch [10/10], Step [300/500] Loss: 0.4862\n",
            "Epoch [10/10], Step [400/500] Loss: 0.5794\n",
            "Epoch [10/10], Step [500/500] Loss: 0.5008\n",
            "Accuracy of the model on the test images: 81.15 %\n"
          ]
        }
      ]
    },
    {
      "cell_type": "code",
      "metadata": {
        "id": "noHmR2zgLPP0"
      },
      "source": [
        "### most of the code adopted from                              \n",
        "### https://github.com/pytorch/vision/blob/master/torchvision/models/resnet.py\n"
      ],
      "execution_count": null,
      "outputs": []
    },
    {
      "cell_type": "code",
      "metadata": {
        "id": "ufRWG-vvLPpE"
      },
      "source": [
        ""
      ],
      "execution_count": null,
      "outputs": []
    },
    {
      "cell_type": "code",
      "metadata": {
        "id": "cu_Q0rjDLPsr"
      },
      "source": [
        ""
      ],
      "execution_count": null,
      "outputs": []
    },
    {
      "cell_type": "code",
      "metadata": {
        "id": "Hp9nZpeFLPxF"
      },
      "source": [
        ""
      ],
      "execution_count": null,
      "outputs": []
    },
    {
      "cell_type": "code",
      "metadata": {
        "id": "5lOwHtYBLP0t"
      },
      "source": [
        ""
      ],
      "execution_count": null,
      "outputs": []
    },
    {
      "cell_type": "code",
      "metadata": {
        "id": "_06ocvC7LP31"
      },
      "source": [
        ""
      ],
      "execution_count": null,
      "outputs": []
    },
    {
      "cell_type": "code",
      "metadata": {
        "id": "rJtrfVyPLP7h"
      },
      "source": [
        ""
      ],
      "execution_count": null,
      "outputs": []
    }
  ]
}