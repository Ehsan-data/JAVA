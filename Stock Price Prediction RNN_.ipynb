{
  "nbformat": 4,
  "nbformat_minor": 0,
  "metadata": {
    "colab": {
      "name": "Assignment 3 .ipynb",
      "provenance": [],
      "collapsed_sections": [],
      "mount_file_id": "1jQV4vHkNVudVdkVt8f4KDJW3Hc-hQlRU",
      "authorship_tag": "ABX9TyMvtpNMVFPuSp4EZRXQ7jHs",
      "include_colab_link": true
    },
    "kernelspec": {
      "name": "python3",
      "display_name": "Python 3"
    },
    "language_info": {
      "name": "python"
    }
  },
  "cells": [
    {
      "cell_type": "markdown",
      "metadata": {
        "id": "view-in-github",
        "colab_type": "text"
      },
      "source": [
        "<a href=\"https://colab.research.google.com/github/Ehsan-data/JAVA/blob/master/Stock%20Price%20Prediction%20RNN_.ipynb\" target=\"_parent\"><img src=\"https://colab.research.google.com/assets/colab-badge.svg\" alt=\"Open In Colab\"/></a>"
      ]
    },
    {
      "cell_type": "code",
      "metadata": {
        "id": "EwNj0qu4OxEn"
      },
      "source": [
        " ! pip install -q kaggle"
      ],
      "execution_count": null,
      "outputs": []
    },
    {
      "cell_type": "code",
      "metadata": {
        "colab": {
          "base_uri": "https://localhost:8080/"
        },
        "id": "KV2Fz_A8O6-q",
        "outputId": "fcb1ea73-684b-4827-83fd-7f5404d45dd9"
      },
      "source": [
        "from google.colab import drive\n",
        "drive.mount('/content/gdive')"
      ],
      "execution_count": null,
      "outputs": [
        {
          "output_type": "stream",
          "name": "stdout",
          "text": [
            "Mounted at /content/gdive\n"
          ]
        }
      ]
    },
    {
      "cell_type": "code",
      "metadata": {
        "colab": {
          "base_uri": "https://localhost:8080/"
        },
        "id": "Ah4N6X_CTDTW",
        "outputId": "b1065af9-ca48-4d3f-e13e-794a998208e9"
      },
      "source": [
        "! pip install kaggle"
      ],
      "execution_count": null,
      "outputs": [
        {
          "output_type": "stream",
          "name": "stdout",
          "text": [
            "Requirement already satisfied: kaggle in /usr/local/lib/python3.7/dist-packages (1.5.12)\n",
            "Requirement already satisfied: python-slugify in /usr/local/lib/python3.7/dist-packages (from kaggle) (5.0.2)\n",
            "Requirement already satisfied: certifi in /usr/local/lib/python3.7/dist-packages (from kaggle) (2021.5.30)\n",
            "Requirement already satisfied: requests in /usr/local/lib/python3.7/dist-packages (from kaggle) (2.23.0)\n",
            "Requirement already satisfied: urllib3 in /usr/local/lib/python3.7/dist-packages (from kaggle) (1.24.3)\n",
            "Requirement already satisfied: python-dateutil in /usr/local/lib/python3.7/dist-packages (from kaggle) (2.8.2)\n",
            "Requirement already satisfied: six>=1.10 in /usr/local/lib/python3.7/dist-packages (from kaggle) (1.15.0)\n",
            "Requirement already satisfied: tqdm in /usr/local/lib/python3.7/dist-packages (from kaggle) (4.62.3)\n",
            "Requirement already satisfied: text-unidecode>=1.3 in /usr/local/lib/python3.7/dist-packages (from python-slugify->kaggle) (1.3)\n",
            "Requirement already satisfied: chardet<4,>=3.0.2 in /usr/local/lib/python3.7/dist-packages (from requests->kaggle) (3.0.4)\n",
            "Requirement already satisfied: idna<3,>=2.5 in /usr/local/lib/python3.7/dist-packages (from requests->kaggle) (2.10)\n"
          ]
        }
      ]
    },
    {
      "cell_type": "code",
      "metadata": {
        "id": "hityJDG5TIkQ"
      },
      "source": [
        "##! mkdir ~/.kaggle\n"
      ],
      "execution_count": null,
      "outputs": []
    },
    {
      "cell_type": "code",
      "metadata": {
        "id": "0KpeNGC2TMvu"
      },
      "source": [
        "##! cp kaggle.json ~/.kaggle/\n"
      ],
      "execution_count": null,
      "outputs": []
    },
    {
      "cell_type": "code",
      "metadata": {
        "id": "eWWVB77SVnPY"
      },
      "source": [
        "##! chmod 600 ~/.kaggle/kaggle.json\n"
      ],
      "execution_count": null,
      "outputs": []
    },
    {
      "cell_type": "code",
      "metadata": {
        "id": "lQKNoAdXVsga"
      },
      "source": [
        "## ! kaggle datasets listnnnn\n"
      ],
      "execution_count": null,
      "outputs": []
    },
    {
      "cell_type": "code",
      "metadata": {
        "colab": {
          "base_uri": "https://localhost:8080/"
        },
        "id": "LpbKrzm6Xk-G",
        "outputId": "99cacc39-95e8-4701-a551-cc280cf4661d"
      },
      "source": [
        "! kaggle datasets download rahulsah06/gooogle-stock-price\n"
      ],
      "execution_count": null,
      "outputs": [
        {
          "output_type": "stream",
          "name": "stdout",
          "text": [
            "gooogle-stock-price.zip: Skipping, found more recently modified local copy (use --force to force download)\n"
          ]
        }
      ]
    },
    {
      "cell_type": "code",
      "metadata": {
        "colab": {
          "base_uri": "https://localhost:8080/"
        },
        "id": "bkLAEXSjTHf4",
        "outputId": "7f1c4baf-08af-4767-9484-a115bbf34204"
      },
      "source": [
        "! unzip gooogle-stock-price\n"
      ],
      "execution_count": null,
      "outputs": [
        {
          "output_type": "stream",
          "name": "stdout",
          "text": [
            "Archive:  gooogle-stock-price.zip\n",
            "replace Google_Stock_Price_Test.csv? [y]es, [n]o, [A]ll, [N]one, [r]ename: y\n",
            "  inflating: Google_Stock_Price_Test.csv  \n",
            "replace Google_Stock_Price_Train.csv? [y]es, [n]o, [A]ll, [N]one, [r]ename: y\n",
            "  inflating: Google_Stock_Price_Train.csv  \n"
          ]
        }
      ]
    },
    {
      "cell_type": "code",
      "metadata": {
        "id": "b-Kh0zLnLOfd"
      },
      "source": [
        "import numpy as np\n",
        "import pandas as pd\n",
        "import matplotlib.pyplot as plt\n",
        "from sklearn.preprocessing import MinMaxScaler\n",
        "scaler = MinMaxScaler(feature_range = (0,1))\n",
        "from keras.models import Sequential  \n",
        "from keras.layers import Dense \n",
        "from keras.layers import SimpleRNN\n",
        "from keras.layers import Dropout \n",
        "import tensorflow as tf\n",
        "from tensorflow.keras.layers import Dense, Activation, Dropout, Input, LSTM, SimpleRNN, GRU, Bidirectional, RNN\n",
        "from tensorflow.keras.optimizers import Adam, SGD, RMSprop\n",
        "from sklearn.metrics import mean_squared_error\n",
        "from itertools import product"
      ],
      "execution_count": null,
      "outputs": []
    },
    {
      "cell_type": "code",
      "metadata": {
        "id": "rdw_K-9ELi8T"
      },
      "source": [
        "# read in train data\n",
        "\n",
        "path_train = \"/content/Google_Stock_Price_Train.csv\"\n",
        "data = pd.read_csv(path_train,sep =\",\")"
      ],
      "execution_count": null,
      "outputs": []
    },
    {
      "cell_type": "code",
      "metadata": {
        "colab": {
          "base_uri": "https://localhost:8080/"
        },
        "id": "zT3oH-ZM9mfr",
        "outputId": "209c9ae4-44d4-4774-d287-d91822ec63f1"
      },
      "source": [
        "data.tail"
      ],
      "execution_count": null,
      "outputs": [
        {
          "output_type": "execute_result",
          "data": {
            "text/plain": [
              "<bound method NDFrame.tail of             Date    Open    High     Low   Close      Volume\n",
              "0       1/3/2012  325.25  332.83  324.97  663.59   7,380,500\n",
              "1       1/4/2012  331.27  333.87  329.08  666.45   5,749,400\n",
              "2       1/5/2012  329.83  330.75  326.89  657.21   6,590,300\n",
              "3       1/6/2012  328.34  328.77  323.68  648.24   5,405,900\n",
              "4       1/9/2012  322.04  322.29  309.46  620.76  11,688,800\n",
              "...          ...     ...     ...     ...     ...         ...\n",
              "1253  12/23/2016  790.90  792.74  787.28  789.91     623,400\n",
              "1254  12/27/2016  790.68  797.86  787.66  791.55     789,100\n",
              "1255  12/28/2016  793.70  794.23  783.20  785.05   1,153,800\n",
              "1256  12/29/2016  783.33  785.93  778.92  782.79     744,300\n",
              "1257  12/30/2016  782.75  782.78  770.41  771.82   1,770,000\n",
              "\n",
              "[1258 rows x 6 columns]>"
            ]
          },
          "metadata": {},
          "execution_count": 39
        }
      ]
    },
    {
      "cell_type": "code",
      "metadata": {
        "id": "QQ89GorPRtC0"
      },
      "source": [
        "# We assign column \"Open\" to variable \"Data\"\n",
        "data = data.loc[:,[\"Open\"]].values\n",
        "\n",
        "train = data[:len(data)-60] \n",
        "test = data[len(train):] # last 50 data will be our test data\n",
        "\n",
        "# reshape\n",
        "train=train.reshape(train.shape[0],1)"
      ],
      "execution_count": null,
      "outputs": []
    },
    {
      "cell_type": "code",
      "metadata": {
        "colab": {
          "base_uri": "https://localhost:8080/",
          "height": 265
        },
        "id": "xP06lSrYRtHj",
        "outputId": "b7905b8e-9c05-4c2c-bf76-e9ba5550f900"
      },
      "source": [
        "from sklearn.preprocessing import MinMaxScaler\n",
        "# Scaler\n",
        "scaler = MinMaxScaler(feature_range= (0,1)) \n",
        "train_scaled = scaler.fit_transform(train)\n",
        "\n",
        "plt.plot(train_scaled)\n",
        "plt.show()"
      ],
      "execution_count": null,
      "outputs": [
        {
          "output_type": "display_data",
          "data": {
            "image/png": "[encoded data removed]",
            "text/plain": [
              "<Figure size 432x288 with 1 Axes>"
            ]
          },
          "metadata": {
            "needs_background": "light"
          }
        }
      ]
    },
    {
      "cell_type": "code",
      "metadata": {
        "id": "aWnGRXnYRtPE"
      },
      "source": [
        "# We add first 50 locution to \"X_train\" and we 51. locution to \"y_train\" .\n",
        "X_train = []\n",
        "y_train = []\n",
        "timesteps = 50\n",
        "\n",
        "for i in range(timesteps, train_scaled.shape[0]):\n",
        "    X_train.append(train_scaled[i-timesteps:i,0])\n",
        "    y_train.append(train_scaled[i,0])\n",
        "\n",
        "X_train, y_train = np.array(X_train), np.array(y_train)\n",
        "\n",
        "\n",
        "# Reshaping\n",
        "X_train = X_train.reshape(X_train.shape[0], X_train.shape[1], 1)  # Dimension of array is 3."
      ],
      "execution_count": null,
      "outputs": []
    },
    {
      "cell_type": "code",
      "metadata": {
        "colab": {
          "base_uri": "https://localhost:8080/"
        },
        "id": "Gx3q38dvRtUz",
        "outputId": "45138f75-64c6-4534-a104-3e8571663746"
      },
      "source": [
        "# Implementing Simple RNN \n",
        "\n",
        "# Initializing RNN\n",
        "simpModel = Sequential()\n",
        "\n",
        "# Adding the layers to RNN \n",
        "simpModel.add(SimpleRNN(units = 50,activation='tanh', return_sequences = True, input_shape = (X_train.shape[1], 1)))\n",
        "simpModel.add(Dropout(0.2)) \n",
        "\n",
        "simpModel.add(SimpleRNN(units = 60,activation='tanh', return_sequences = True))\n",
        "simpModel.add(Dropout(0.2))\n",
        "\n",
        "simpModel.add(SimpleRNN(units = 80,activation='tanh', return_sequences = True))\n",
        "simpModel.add(Dropout(0.2))\n",
        "\n",
        "simpModel.add(SimpleRNN(units = 120))\n",
        "simpModel.add(Dropout(0.2))\n",
        "\n",
        "\n",
        "simpModel.add(Dense(units = 1))\n",
        "\n",
        "# Compiling the RNN\n",
        "simpModel.compile(optimizer = 'adam', loss = 'mean_squared_error')\n",
        "\n",
        "# Fit the model\n",
        "history = simpModel.fit(X_train, y_train, epochs = 150, batch_size = 16)\n"
      ],
      "execution_count": null,
      "outputs": [
        {
          "output_type": "stream",
          "name": "stdout",
          "text": [
            "Epoch 1/150\n",
            "73/73 [==============================] - 6s 44ms/step - loss: 0.3741\n",
            "Epoch 2/150\n",
            "73/73 [==============================] - 3s 44ms/step - loss: 0.2372\n",
            "Epoch 3/150\n",
            "73/73 [==============================] - 3s 44ms/step - loss: 0.1462\n",
            "Epoch 4/150\n",
            "73/73 [==============================] - 3s 44ms/step - loss: 0.1116\n",
            "Epoch 5/150\n",
            "73/73 [==============================] - 3s 43ms/step - loss: 0.0927\n",
            "Epoch 6/150\n",
            "73/73 [==============================] - 3s 44ms/step - loss: 0.0664\n",
            "Epoch 7/150\n",
            "73/73 [==============================] - 3s 44ms/step - loss: 0.0604\n",
            "Epoch 8/150\n",
            "73/73 [==============================] - 3s 42ms/step - loss: 0.0475\n",
            "Epoch 9/150\n",
            "73/73 [==============================] - 3s 43ms/step - loss: 0.0400\n",
            "Epoch 10/150\n",
            "73/73 [==============================] - 3s 43ms/step - loss: 0.0327\n",
            "Epoch 11/150\n",
            "73/73 [==============================] - 3s 44ms/step - loss: 0.0282\n",
            "Epoch 12/150\n",
            "73/73 [==============================] - 3s 43ms/step - loss: 0.0252\n",
            "Epoch 13/150\n",
            "73/73 [==============================] - 3s 43ms/step - loss: 0.0208\n",
            "Epoch 14/150\n",
            "73/73 [==============================] - 3s 43ms/step - loss: 0.0174\n",
            "Epoch 15/150\n",
            "73/73 [==============================] - 3s 43ms/step - loss: 0.0167\n",
            "Epoch 16/150\n",
            "73/73 [==============================] - 3s 44ms/step - loss: 0.0140\n",
            "Epoch 17/150\n",
            "73/73 [==============================] - 3s 43ms/step - loss: 0.0125\n",
            "Epoch 18/150\n",
            "73/73 [==============================] - 3s 43ms/step - loss: 0.0116\n",
            "Epoch 19/150\n",
            "73/73 [==============================] - 3s 43ms/step - loss: 0.0102\n",
            "Epoch 20/150\n",
            "73/73 [==============================] - 3s 43ms/step - loss: 0.0087\n",
            "Epoch 21/150\n",
            "73/73 [==============================] - 3s 43ms/step - loss: 0.0098\n",
            "Epoch 22/150\n",
            "73/73 [==============================] - 3s 43ms/step - loss: 0.0095\n",
            "Epoch 23/150\n",
            "73/73 [==============================] - 3s 44ms/step - loss: 0.0076\n",
            "Epoch 24/150\n",
            "73/73 [==============================] - 3s 44ms/step - loss: 0.0065\n",
            "Epoch 25/150\n",
            "73/73 [==============================] - 3s 44ms/step - loss: 0.0071\n",
            "Epoch 26/150\n",
            "73/73 [==============================] - 3s 44ms/step - loss: 0.0064\n",
            "Epoch 27/150\n",
            "73/73 [==============================] - 3s 43ms/step - loss: 0.0057\n",
            "Epoch 28/150\n",
            "73/73 [==============================] - 3s 43ms/step - loss: 0.0052\n",
            "Epoch 29/150\n",
            "73/73 [==============================] - 3s 44ms/step - loss: 0.0051\n",
            "Epoch 30/150\n",
            "73/73 [==============================] - 3s 43ms/step - loss: 0.0052\n",
            "Epoch 31/150\n",
            "73/73 [==============================] - 3s 43ms/step - loss: 0.0050\n",
            "Epoch 32/150\n",
            "73/73 [==============================] - 3s 43ms/step - loss: 0.0045\n",
            "Epoch 33/150\n",
            "73/73 [==============================] - 3s 44ms/step - loss: 0.0042\n",
            "Epoch 34/150\n",
            "73/73 [==============================] - 3s 44ms/step - loss: 0.0041\n",
            "Epoch 35/150\n",
            "73/73 [==============================] - 3s 43ms/step - loss: 0.0037\n",
            "Epoch 36/150\n",
            "73/73 [==============================] - 3s 43ms/step - loss: 0.0041\n",
            "Epoch 37/150\n",
            "73/73 [==============================] - 3s 43ms/step - loss: 0.0035\n",
            "Epoch 38/150\n",
            "73/73 [==============================] - 3s 43ms/step - loss: 0.0033\n",
            "Epoch 39/150\n",
            "73/73 [==============================] - 3s 44ms/step - loss: 0.0036\n",
            "Epoch 40/150\n",
            "73/73 [==============================] - 3s 44ms/step - loss: 0.0034\n",
            "Epoch 41/150\n",
            "73/73 [==============================] - 3s 43ms/step - loss: 0.0028\n",
            "Epoch 42/150\n",
            "73/73 [==============================] - 3s 44ms/step - loss: 0.0029\n",
            "Epoch 43/150\n",
            "73/73 [==============================] - 3s 44ms/step - loss: 0.0027\n",
            "Epoch 44/150\n",
            "73/73 [==============================] - 3s 46ms/step - loss: 0.0028\n",
            "Epoch 45/150\n",
            "73/73 [==============================] - 3s 44ms/step - loss: 0.0025\n",
            "Epoch 46/150\n",
            "73/73 [==============================] - 3s 42ms/step - loss: 0.0024\n",
            "Epoch 47/150\n",
            "73/73 [==============================] - 3s 43ms/step - loss: 0.0022\n",
            "Epoch 48/150\n",
            "73/73 [==============================] - 3s 43ms/step - loss: 0.0022\n",
            "Epoch 49/150\n",
            "73/73 [==============================] - 3s 43ms/step - loss: 0.0030\n",
            "Epoch 50/150\n",
            "73/73 [==============================] - 3s 44ms/step - loss: 0.0023\n",
            "Epoch 51/150\n",
            "73/73 [==============================] - 3s 44ms/step - loss: 0.0023\n",
            "Epoch 52/150\n",
            "73/73 [==============================] - 3s 43ms/step - loss: 0.0023\n",
            "Epoch 53/150\n",
            "73/73 [==============================] - 3s 44ms/step - loss: 0.0019\n",
            "Epoch 54/150\n",
            "73/73 [==============================] - 3s 44ms/step - loss: 0.0022\n",
            "Epoch 55/150\n",
            "73/73 [==============================] - 3s 42ms/step - loss: 0.0025\n",
            "Epoch 56/150\n",
            "73/73 [==============================] - 3s 43ms/step - loss: 0.0019\n",
            "Epoch 57/150\n",
            "73/73 [==============================] - 3s 44ms/step - loss: 0.0018\n",
            "Epoch 58/150\n",
            "73/73 [==============================] - 3s 43ms/step - loss: 0.0019\n",
            "Epoch 59/150\n",
            "73/73 [==============================] - 3s 43ms/step - loss: 0.0017\n",
            "Epoch 60/150\n",
            "73/73 [==============================] - 3s 43ms/step - loss: 0.0022\n",
            "Epoch 61/150\n",
            "73/73 [==============================] - 3s 43ms/step - loss: 0.0031\n",
            "Epoch 62/150\n",
            "73/73 [==============================] - 3s 43ms/step - loss: 0.0025\n",
            "Epoch 63/150\n",
            "73/73 [==============================] - 3s 44ms/step - loss: 0.0020\n",
            "Epoch 64/150\n",
            "73/73 [==============================] - 3s 44ms/step - loss: 0.0020\n",
            "Epoch 65/150\n",
            "73/73 [==============================] - 3s 44ms/step - loss: 0.0018\n",
            "Epoch 66/150\n",
            "73/73 [==============================] - 3s 44ms/step - loss: 0.0018\n",
            "Epoch 67/150\n",
            "73/73 [==============================] - 3s 43ms/step - loss: 0.0019\n",
            "Epoch 68/150\n",
            "73/73 [==============================] - 3s 43ms/step - loss: 0.0018\n",
            "Epoch 69/150\n",
            "73/73 [==============================] - 3s 44ms/step - loss: 0.0017\n",
            "Epoch 70/150\n",
            "73/73 [==============================] - 3s 44ms/step - loss: 0.0015\n",
            "Epoch 71/150\n",
            "73/73 [==============================] - 3s 43ms/step - loss: 0.0018\n",
            "Epoch 72/150\n",
            "73/73 [==============================] - 3s 43ms/step - loss: 0.0018\n",
            "Epoch 73/150\n",
            "73/73 [==============================] - 3s 44ms/step - loss: 0.0019\n",
            "Epoch 74/150\n",
            "73/73 [==============================] - 3s 43ms/step - loss: 0.0016\n",
            "Epoch 75/150\n",
            "73/73 [==============================] - 3s 44ms/step - loss: 0.0014\n",
            "Epoch 76/150\n",
            "73/73 [==============================] - 3s 43ms/step - loss: 0.0015\n",
            "Epoch 77/150\n",
            "73/73 [==============================] - 3s 44ms/step - loss: 0.0016\n",
            "Epoch 78/150\n",
            "73/73 [==============================] - 3s 44ms/step - loss: 0.0014\n",
            "Epoch 79/150\n",
            "73/73 [==============================] - 3s 44ms/step - loss: 0.0015\n",
            "Epoch 80/150\n",
            "73/73 [==============================] - 3s 44ms/step - loss: 0.0013\n",
            "Epoch 81/150\n",
            "73/73 [==============================] - 3s 44ms/step - loss: 0.0016\n",
            "Epoch 82/150\n",
            "73/73 [==============================] - 3s 44ms/step - loss: 0.0014\n",
            "Epoch 83/150\n",
            "73/73 [==============================] - 3s 44ms/step - loss: 0.0013\n",
            "Epoch 84/150\n",
            "73/73 [==============================] - 3s 44ms/step - loss: 0.0014\n",
            "Epoch 85/150\n",
            "73/73 [==============================] - 3s 43ms/step - loss: 0.0017\n",
            "Epoch 86/150\n",
            "73/73 [==============================] - 3s 44ms/step - loss: 0.0014\n",
            "Epoch 87/150\n",
            "73/73 [==============================] - 3s 43ms/step - loss: 0.0016\n",
            "Epoch 88/150\n",
            "73/73 [==============================] - 3s 44ms/step - loss: 0.0014\n",
            "Epoch 89/150\n",
            "73/73 [==============================] - 3s 43ms/step - loss: 0.0016\n",
            "Epoch 90/150\n",
            "73/73 [==============================] - 3s 44ms/step - loss: 0.0014\n",
            "Epoch 91/150\n",
            "73/73 [==============================] - 3s 44ms/step - loss: 0.0013\n",
            "Epoch 92/150\n",
            "73/73 [==============================] - 3s 44ms/step - loss: 0.0013\n",
            "Epoch 93/150\n",
            "73/73 [==============================] - 3s 44ms/step - loss: 0.0014\n",
            "Epoch 94/150\n",
            "73/73 [==============================] - 3s 44ms/step - loss: 0.0014\n",
            "Epoch 95/150\n",
            "73/73 [==============================] - 3s 44ms/step - loss: 0.0013\n",
            "Epoch 96/150\n",
            "73/73 [==============================] - 3s 44ms/step - loss: 0.0012\n",
            "Epoch 97/150\n",
            "73/73 [==============================] - 3s 44ms/step - loss: 0.0017\n",
            "Epoch 98/150\n",
            "73/73 [==============================] - 3s 44ms/step - loss: 0.0015\n",
            "Epoch 99/150\n",
            "73/73 [==============================] - 3s 43ms/step - loss: 0.0014\n",
            "Epoch 100/150\n",
            "73/73 [==============================] - 3s 45ms/step - loss: 0.0016\n",
            "Epoch 101/150\n",
            "73/73 [==============================] - 3s 44ms/step - loss: 0.0014\n",
            "Epoch 102/150\n",
            "73/73 [==============================] - 3s 44ms/step - loss: 0.0014\n",
            "Epoch 103/150\n",
            "73/73 [==============================] - 3s 44ms/step - loss: 0.0012\n",
            "Epoch 104/150\n",
            "73/73 [==============================] - 3s 44ms/step - loss: 0.0014\n",
            "Epoch 105/150\n",
            "73/73 [==============================] - 3s 45ms/step - loss: 0.0010\n",
            "Epoch 106/150\n",
            "73/73 [==============================] - 3s 45ms/step - loss: 0.0012\n",
            "Epoch 107/150\n",
            "73/73 [==============================] - 3s 44ms/step - loss: 0.0015\n",
            "Epoch 108/150\n",
            "73/73 [==============================] - 3s 43ms/step - loss: 0.0013\n",
            "Epoch 109/150\n",
            "73/73 [==============================] - 3s 44ms/step - loss: 0.0012\n",
            "Epoch 110/150\n",
            "73/73 [==============================] - 3s 44ms/step - loss: 0.0012\n",
            "Epoch 111/150\n",
            "73/73 [==============================] - 3s 44ms/step - loss: 0.0011\n",
            "Epoch 112/150\n",
            "73/73 [==============================] - 3s 45ms/step - loss: 0.0012\n",
            "Epoch 113/150\n",
            "73/73 [==============================] - 3s 44ms/step - loss: 0.0016\n",
            "Epoch 114/150\n",
            "73/73 [==============================] - 3s 44ms/step - loss: 0.0015\n",
            "Epoch 115/150\n",
            "73/73 [==============================] - 3s 44ms/step - loss: 0.0012\n",
            "Epoch 116/150\n",
            "73/73 [==============================] - 3s 44ms/step - loss: 9.6141e-04\n",
            "Epoch 117/150\n",
            "73/73 [==============================] - 3s 44ms/step - loss: 0.0010\n",
            "Epoch 118/150\n",
            "73/73 [==============================] - 3s 44ms/step - loss: 0.0011\n",
            "Epoch 119/150\n",
            "73/73 [==============================] - 3s 44ms/step - loss: 0.0012\n",
            "Epoch 120/150\n",
            "73/73 [==============================] - 3s 44ms/step - loss: 0.0013\n",
            "Epoch 121/150\n",
            "73/73 [==============================] - 3s 44ms/step - loss: 0.0011\n",
            "Epoch 122/150\n",
            "73/73 [==============================] - 3s 44ms/step - loss: 0.0011\n",
            "Epoch 123/150\n",
            "73/73 [==============================] - 3s 44ms/step - loss: 0.0014\n",
            "Epoch 124/150\n",
            "73/73 [==============================] - 3s 44ms/step - loss: 0.0014\n",
            "Epoch 125/150\n",
            "73/73 [==============================] - 3s 43ms/step - loss: 0.0011\n",
            "Epoch 126/150\n",
            "73/73 [==============================] - 3s 44ms/step - loss: 0.0012\n",
            "Epoch 127/150\n",
            "73/73 [==============================] - 3s 44ms/step - loss: 0.0013\n",
            "Epoch 128/150\n",
            "73/73 [==============================] - 3s 44ms/step - loss: 0.0015\n",
            "Epoch 129/150\n",
            "73/73 [==============================] - 3s 44ms/step - loss: 9.5699e-04\n",
            "Epoch 130/150\n",
            "73/73 [==============================] - 3s 44ms/step - loss: 0.0011\n",
            "Epoch 131/150\n",
            "73/73 [==============================] - 3s 44ms/step - loss: 0.0013\n",
            "Epoch 132/150\n",
            "73/73 [==============================] - 3s 45ms/step - loss: 0.0013\n",
            "Epoch 133/150\n",
            "73/73 [==============================] - 3s 46ms/step - loss: 0.0012\n",
            "Epoch 134/150\n",
            "73/73 [==============================] - 3s 44ms/step - loss: 0.0010\n",
            "Epoch 135/150\n",
            "73/73 [==============================] - 3s 44ms/step - loss: 0.0011\n",
            "Epoch 136/150\n",
            "73/73 [==============================] - 3s 44ms/step - loss: 0.0011\n",
            "Epoch 137/150\n",
            "73/73 [==============================] - 3s 44ms/step - loss: 0.0017\n",
            "Epoch 138/150\n",
            "73/73 [==============================] - 3s 44ms/step - loss: 0.0010\n",
            "Epoch 139/150\n",
            "73/73 [==============================] - 3s 44ms/step - loss: 0.0015\n",
            "Epoch 140/150\n",
            "73/73 [==============================] - 3s 44ms/step - loss: 0.0012\n",
            "Epoch 141/150\n",
            "73/73 [==============================] - 3s 43ms/step - loss: 0.0011\n",
            "Epoch 142/150\n",
            "73/73 [==============================] - 3s 44ms/step - loss: 0.0010\n",
            "Epoch 143/150\n",
            "73/73 [==============================] - 3s 44ms/step - loss: 0.0011\n",
            "Epoch 144/150\n",
            "73/73 [==============================] - 3s 44ms/step - loss: 9.8209e-04\n",
            "Epoch 145/150\n",
            "73/73 [==============================] - 3s 43ms/step - loss: 0.0014\n",
            "Epoch 146/150\n",
            "73/73 [==============================] - 3s 44ms/step - loss: 0.0013\n",
            "Epoch 147/150\n",
            "73/73 [==============================] - 3s 45ms/step - loss: 0.0011\n",
            "Epoch 148/150\n",
            "73/73 [==============================] - 3s 44ms/step - loss: 0.0011\n",
            "Epoch 149/150\n",
            "73/73 [==============================] - 3s 44ms/step - loss: 0.0014\n",
            "Epoch 150/150\n",
            "73/73 [==============================] - 3s 45ms/step - loss: 0.0011\n"
          ]
        }
      ]
    },
    {
      "cell_type": "code",
      "metadata": {
        "colab": {
          "base_uri": "https://localhost:8080/"
        },
        "id": "z9xyimHDzius",
        "outputId": "9a4d2255-0f21-48da-ca3e-52133b2b1e15"
      },
      "source": [
        "simpModel.summary()"
      ],
      "execution_count": null,
      "outputs": [
        {
          "output_type": "stream",
          "name": "stdout",
          "text": [
            "Model: \"sequential_14\"\n",
            "_________________________________________________________________\n",
            "Layer (type)                 Output Shape              Param #   \n",
            "=================================================================\n",
            "simple_rnn_49 (SimpleRNN)    (None, 50, 50)            2600      \n",
            "_________________________________________________________________\n",
            "dropout_49 (Dropout)         (None, 50, 50)            0         \n",
            "_________________________________________________________________\n",
            "simple_rnn_50 (SimpleRNN)    (None, 50, 60)            6660      \n",
            "_________________________________________________________________\n",
            "dropout_50 (Dropout)         (None, 50, 60)            0         \n",
            "_________________________________________________________________\n",
            "simple_rnn_51 (SimpleRNN)    (None, 50, 80)            11280     \n",
            "_________________________________________________________________\n",
            "dropout_51 (Dropout)         (None, 50, 80)            0         \n",
            "_________________________________________________________________\n",
            "simple_rnn_52 (SimpleRNN)    (None, 120)               24120     \n",
            "_________________________________________________________________\n",
            "dropout_52 (Dropout)         (None, 120)               0         \n",
            "_________________________________________________________________\n",
            "dense_14 (Dense)             (None, 1)                 121       \n",
            "=================================================================\n",
            "Total params: 44,781\n",
            "Trainable params: 44,781\n",
            "Non-trainable params: 0\n",
            "_________________________________________________________________\n"
          ]
        }
      ]
    },
    {
      "cell_type": "code",
      "metadata": {
        "colab": {
          "base_uri": "https://localhost:8080/",
          "height": 295
        },
        "id": "ieC_6qk51axd",
        "outputId": "f320f22f-ddd3-49cc-d9ad-63a67895bb40"
      },
      "source": [
        "plt.plot(history.history['loss']) \n",
        "plt.title('Model Loss')\n",
        "plt.ylabel('Loss')\n",
        "plt.xlabel('Epochs')\n",
        "plt.show()"
      ],
      "execution_count": null,
      "outputs": [
        {
          "output_type": "display_data",
          "data": {
            "image/png": "[encoded data removed]",
            "text/plain": [
              "<Figure size 432x288 with 1 Axes>"
            ]
          },
          "metadata": {
            "needs_background": "light"
          }
        }
      ]
    },
    {
      "cell_type": "code",
      "metadata": {
        "id": "oA5XG31RRtcI"
      },
      "source": [
        "inputs = data[len(data) - len(test) - timesteps:]\n",
        "inputs = scaler.transform(inputs)  # min max scaler"
      ],
      "execution_count": null,
      "outputs": []
    },
    {
      "cell_type": "code",
      "metadata": {
        "id": "GT4VSDEHSaIH"
      },
      "source": [
        "X_test = []\n",
        "for i in range(timesteps, inputs.shape[0]):\n",
        "    X_test.append(inputs[i-timesteps:i, 0]) # 0 dan 50 ye, 1 den 51 e gibi kaydirarark 50 eleman aliyoruz \n",
        "X_test = np.array(X_test)\n",
        "X_test = X_test.reshape(X_test.shape[0], X_test.shape[1], 1)"
      ],
      "execution_count": null,
      "outputs": []
    },
    {
      "cell_type": "code",
      "metadata": {
        "id": "12ZneQi2SaVQ"
      },
      "source": [
        "predicted_data = simpModel.predict(X_test)\n",
        "predicted_data = scaler.inverse_transform(predicted_data)"
      ],
      "execution_count": null,
      "outputs": []
    },
    {
      "cell_type": "code",
      "metadata": {
        "colab": {
          "base_uri": "https://localhost:8080/",
          "height": 309
        },
        "id": "TGA5IFM4SaZ2",
        "outputId": "6c8c33f1-7ee8-472b-8c9b-f39d244a62e6"
      },
      "source": [
        "plt.figure(figsize=(7,3), dpi=70, facecolor='w', edgecolor='k')\n",
        "plt.plot(test,color=\"y\",label=\"Real value\")\n",
        "plt.plot(predicted_data,color=\"b\",label=\"RNN predicted result\")\n",
        "plt.legend()\n",
        "plt.xlabel(\"Days\")\n",
        "plt.ylabel(\"Values\")\n",
        "plt.grid(True)\n",
        "plt.show()"
      ],
      "execution_count": null,
      "outputs": [
        {
          "output_type": "display_data",
          "data": {
            "image/png": "[encoded data removed]",
            "text/plain": [
              "<Figure size 640x320 with 1 Axes>"
            ]
          },
          "metadata": {}
        }
      ]
    },
    {
      "cell_type": "code",
      "metadata": {
        "id": "oKymM4yuSafz"
      },
      "source": [
        ""
      ],
      "execution_count": null,
      "outputs": []
    },
    {
      "cell_type": "code",
      "metadata": {
        "colab": {
          "base_uri": "https://localhost:8080/"
        },
        "id": "COXGdIOrSapj",
        "outputId": "d3b2ac4c-3f98-43d4-cb9d-8684791c4cf4"
      },
      "source": [
        "# building LSTM \n",
        "lstmModel = Sequential()\n",
        "lstmModel.add(LSTM(10, input_shape=(None,1))) #10 LSTM blocks.\n",
        "lstmModel.add(Dense(1))\n",
        "lstmModel.compile(loss='mean_squared_error', optimizer='adam')\n",
        "lstmModel.fit(X_train, y_train, epochs=50, batch_size=1)\n"
      ],
      "execution_count": null,
      "outputs": [
        {
          "output_type": "stream",
          "name": "stdout",
          "text": [
            "Epoch 1/50\n",
            "1158/1158 [==============================] - 13s 9ms/step - loss: 0.0133\n",
            "Epoch 2/50\n",
            "1158/1158 [==============================] - 11s 9ms/step - loss: 0.0011\n",
            "Epoch 3/50\n",
            "1158/1158 [==============================] - 11s 9ms/step - loss: 8.7448e-04\n",
            "Epoch 4/50\n",
            "1158/1158 [==============================] - 11s 9ms/step - loss: 7.2392e-04\n",
            "Epoch 5/50\n",
            "1158/1158 [==============================] - 10s 9ms/step - loss: 6.4926e-04\n",
            "Epoch 6/50\n",
            "1158/1158 [==============================] - 10s 9ms/step - loss: 5.5899e-04\n",
            "Epoch 7/50\n",
            "1158/1158 [==============================] - 10s 9ms/step - loss: 5.0152e-04\n",
            "Epoch 8/50\n",
            "1158/1158 [==============================] - 10s 9ms/step - loss: 4.4918e-04\n",
            "Epoch 9/50\n",
            "1158/1158 [==============================] - 10s 9ms/step - loss: 4.1847e-04\n",
            "Epoch 10/50\n",
            "1158/1158 [==============================] - 11s 9ms/step - loss: 3.9050e-04\n",
            "Epoch 11/50\n",
            "1158/1158 [==============================] - 11s 9ms/step - loss: 3.6422e-04\n",
            "Epoch 12/50\n",
            "1158/1158 [==============================] - 11s 9ms/step - loss: 3.5894e-04\n",
            "Epoch 13/50\n",
            "1158/1158 [==============================] - 11s 9ms/step - loss: 3.4350e-04\n",
            "Epoch 14/50\n",
            "1158/1158 [==============================] - 10s 9ms/step - loss: 3.5491e-04\n",
            "Epoch 15/50\n",
            "1158/1158 [==============================] - 10s 9ms/step - loss: 3.3369e-04\n",
            "Epoch 16/50\n",
            "1158/1158 [==============================] - 10s 9ms/step - loss: 3.4820e-04\n",
            "Epoch 17/50\n",
            "1158/1158 [==============================] - 10s 9ms/step - loss: 3.4381e-04\n",
            "Epoch 18/50\n",
            "1158/1158 [==============================] - 10s 9ms/step - loss: 3.4199e-04\n",
            "Epoch 19/50\n",
            "1158/1158 [==============================] - 10s 9ms/step - loss: 3.5422e-04\n",
            "Epoch 20/50\n",
            "1158/1158 [==============================] - 11s 9ms/step - loss: 3.1362e-04\n",
            "Epoch 21/50\n",
            "1158/1158 [==============================] - 11s 9ms/step - loss: 3.4144e-04\n",
            "Epoch 22/50\n",
            "1158/1158 [==============================] - 11s 9ms/step - loss: 3.3214e-04\n",
            "Epoch 23/50\n",
            "1158/1158 [==============================] - 11s 9ms/step - loss: 3.2384e-04\n",
            "Epoch 24/50\n",
            "1158/1158 [==============================] - 11s 9ms/step - loss: 3.3352e-04\n",
            "Epoch 25/50\n",
            "1158/1158 [==============================] - 10s 9ms/step - loss: 3.2706e-04\n",
            "Epoch 26/50\n",
            "1158/1158 [==============================] - 10s 9ms/step - loss: 3.3377e-04\n",
            "Epoch 27/50\n",
            "1158/1158 [==============================] - 10s 9ms/step - loss: 3.3079e-04\n",
            "Epoch 28/50\n",
            "1158/1158 [==============================] - 10s 9ms/step - loss: 3.2742e-04\n",
            "Epoch 29/50\n",
            "1158/1158 [==============================] - 10s 9ms/step - loss: 3.1845e-04\n",
            "Epoch 30/50\n",
            "1158/1158 [==============================] - 10s 9ms/step - loss: 3.4156e-04\n",
            "Epoch 31/50\n",
            "1158/1158 [==============================] - 10s 9ms/step - loss: 3.2023e-04\n",
            "Epoch 32/50\n",
            "1158/1158 [==============================] - 10s 9ms/step - loss: 3.2970e-04\n",
            "Epoch 33/50\n",
            "1158/1158 [==============================] - 10s 9ms/step - loss: 3.2723e-04\n",
            "Epoch 34/50\n",
            "1158/1158 [==============================] - 11s 9ms/step - loss: 3.2376e-04\n",
            "Epoch 35/50\n",
            "1158/1158 [==============================] - 11s 9ms/step - loss: 3.3919e-04\n",
            "Epoch 36/50\n",
            "1158/1158 [==============================] - 10s 9ms/step - loss: 3.1872e-04\n",
            "Epoch 37/50\n",
            "1158/1158 [==============================] - 10s 9ms/step - loss: 3.2450e-04\n",
            "Epoch 38/50\n",
            "1158/1158 [==============================] - 11s 9ms/step - loss: 3.0730e-04\n",
            "Epoch 39/50\n",
            "1158/1158 [==============================] - 10s 9ms/step - loss: 3.2409e-04\n",
            "Epoch 40/50\n",
            "1158/1158 [==============================] - 10s 9ms/step - loss: 3.1917e-04\n",
            "Epoch 41/50\n",
            "1158/1158 [==============================] - 10s 9ms/step - loss: 3.2932e-04\n",
            "Epoch 42/50\n",
            "1158/1158 [==============================] - 11s 9ms/step - loss: 3.0161e-04\n",
            "Epoch 43/50\n",
            "1158/1158 [==============================] - 11s 9ms/step - loss: 3.0932e-04\n",
            "Epoch 44/50\n",
            "1158/1158 [==============================] - 11s 9ms/step - loss: 3.2022e-04\n",
            "Epoch 45/50\n",
            "1158/1158 [==============================] - 11s 9ms/step - loss: 3.1175e-04\n",
            "Epoch 46/50\n",
            "1158/1158 [==============================] - 11s 9ms/step - loss: 2.9988e-04\n",
            "Epoch 47/50\n",
            "1158/1158 [==============================] - 11s 9ms/step - loss: 3.1210e-04\n",
            "Epoch 48/50\n",
            "1158/1158 [==============================] - 10s 9ms/step - loss: 3.0798e-04\n",
            "Epoch 49/50\n",
            "1158/1158 [==============================] - 11s 9ms/step - loss: 3.2174e-04\n",
            "Epoch 50/50\n",
            "1158/1158 [==============================] - 11s 9ms/step - loss: 3.1487e-04\n"
          ]
        },
        {
          "output_type": "execute_result",
          "data": {
            "text/plain": [
              "<keras.callbacks.History at 0x7f57a816f390>"
            ]
          },
          "metadata": {},
          "execution_count": 50
        }
      ]
    },
    {
      "cell_type": "code",
      "metadata": {
        "colab": {
          "base_uri": "https://localhost:8080/"
        },
        "id": "3C-T3vJfHLIf",
        "outputId": "4d41773c-0060-409f-b898-5b211ec56645"
      },
      "source": [
        "model.summary()"
      ],
      "execution_count": null,
      "outputs": [
        {
          "output_type": "stream",
          "name": "stdout",
          "text": [
            "Model: \"sequential_2\"\n",
            "_________________________________________________________________\n",
            "Layer (type)                 Output Shape              Param #   \n",
            "=================================================================\n",
            "lstm (LSTM)                  (None, 10)                480       \n",
            "_________________________________________________________________\n",
            "dense_2 (Dense)              (None, 1)                 11        \n",
            "=================================================================\n",
            "Total params: 491\n",
            "Trainable params: 491\n",
            "Non-trainable params: 0\n",
            "_________________________________________________________________\n"
          ]
        }
      ]
    },
    {
      "cell_type": "code",
      "metadata": {
        "id": "QTe33ISUSavA"
      },
      "source": [
        "predicted_data2=lstmModel.predict(X_test)\n",
        "predicted_data2=scaler.inverse_transform(predicted_data2)"
      ],
      "execution_count": null,
      "outputs": []
    },
    {
      "cell_type": "code",
      "metadata": {
        "colab": {
          "base_uri": "https://localhost:8080/",
          "height": 309
        },
        "id": "eczlbZi7Say3",
        "outputId": "550ce9cf-a48f-4361-f585-f623c5ae6ddb"
      },
      "source": [
        "plt.figure(figsize=(8,4), dpi=80, facecolor='w', edgecolor='k')\n",
        "plt.plot(test,color=\"g\",label=\"Real values\")\n",
        "plt.plot(predicted_data2,color=\"y\",label=\"Predicted LSTM \")\n",
        "plt.legend()\n",
        "plt.xlabel(\"Days\")\n",
        "plt.ylabel(\"Values\")\n",
        "plt.grid(True)\n",
        "plt.show()"
      ],
      "execution_count": null,
      "outputs": [
        {
          "output_type": "display_data",
          "data": {
            "image/png": "[encoded data removed]",
            "text/plain": [
              "<Figure size 640x320 with 1 Axes>"
            ]
          },
          "metadata": {}
        }
      ]
    },
    {
      "cell_type": "code",
      "metadata": {
        "colab": {
          "base_uri": "https://localhost:8080/"
        },
        "id": "hS2EbSuKSa4M",
        "outputId": "576a4fa9-7ee4-43e6-aea8-6925b4c3313f"
      },
      "source": [
        "# RNN SimpleModel2\n",
        "\n",
        "from keras.models import Sequential  \n",
        "from keras.layers import Dense \n",
        "from keras.layers import SimpleRNN\n",
        "from keras.layers import Dropout \n",
        "\n",
        "# Initialisiation\n",
        "SimpleModel2 = Sequential()\n",
        "\n",
        "\n",
        "SimpleModel2.add(SimpleRNN(units = 100,activation='relu', return_sequences = True, input_shape = (X_train.shape[1], 1)))\n",
        "SimpleModel2.add(Dropout(0.2))\n",
        "\n",
        "\n",
        "SimpleModel2.add(SimpleRNN(units = 50))\n",
        "SimpleModel2.add(Dropout(0.2))\n",
        "\n",
        "\n",
        "# output layer\n",
        "SimpleModel2.add(Dense(units = 1)) \n",
        "\n",
        "# Compiling \n",
        "SimpleModel2.compile(optimizer = 'adam', loss = 'mean_squared_error')\n",
        "# Fitting RNN \n",
        "history = SimpleModel2.fit(X_train, y_train, epochs = 200, batch_size = 16)\n"
      ],
      "execution_count": null,
      "outputs": [
        {
          "output_type": "stream",
          "name": "stdout",
          "text": [
            "Epoch 1/200\n",
            "73/73 [==============================] - 3s 23ms/step - loss: 0.0354\n",
            "Epoch 2/200\n",
            "73/73 [==============================] - 2s 24ms/step - loss: 0.0124\n",
            "Epoch 3/200\n",
            "73/73 [==============================] - 2s 23ms/step - loss: 0.0089\n",
            "Epoch 4/200\n",
            "73/73 [==============================] - 2s 24ms/step - loss: 0.0064\n",
            "Epoch 5/200\n",
            "73/73 [==============================] - 2s 23ms/step - loss: 0.0059\n",
            "Epoch 6/200\n",
            "73/73 [==============================] - 2s 23ms/step - loss: 0.0046\n",
            "Epoch 7/200\n",
            "73/73 [==============================] - 2s 24ms/step - loss: 0.0043\n",
            "Epoch 8/200\n",
            "73/73 [==============================] - 2s 24ms/step - loss: 0.0038\n",
            "Epoch 9/200\n",
            "73/73 [==============================] - 2s 23ms/step - loss: 0.0040\n",
            "Epoch 10/200\n",
            "73/73 [==============================] - 2s 24ms/step - loss: 0.0033\n",
            "Epoch 11/200\n",
            "73/73 [==============================] - 2s 23ms/step - loss: 0.0032\n",
            "Epoch 12/200\n",
            "73/73 [==============================] - 2s 22ms/step - loss: 0.0033\n",
            "Epoch 13/200\n",
            "73/73 [==============================] - 2s 23ms/step - loss: 0.0031\n",
            "Epoch 14/200\n",
            "73/73 [==============================] - 2s 23ms/step - loss: 0.0027\n",
            "Epoch 15/200\n",
            "73/73 [==============================] - 2s 23ms/step - loss: 0.0026\n",
            "Epoch 16/200\n",
            "73/73 [==============================] - 2s 22ms/step - loss: 0.0027\n",
            "Epoch 17/200\n",
            "73/73 [==============================] - 2s 23ms/step - loss: 0.0026\n",
            "Epoch 18/200\n",
            "73/73 [==============================] - 2s 23ms/step - loss: 0.0023\n",
            "Epoch 19/200\n",
            "73/73 [==============================] - 2s 23ms/step - loss: 0.0023\n",
            "Epoch 20/200\n",
            "73/73 [==============================] - 2s 24ms/step - loss: 0.0024\n",
            "Epoch 21/200\n",
            "73/73 [==============================] - 2s 22ms/step - loss: 0.0022\n",
            "Epoch 22/200\n",
            "73/73 [==============================] - 2s 22ms/step - loss: 0.0021\n",
            "Epoch 23/200\n",
            "73/73 [==============================] - 2s 23ms/step - loss: 0.0022\n",
            "Epoch 24/200\n",
            "73/73 [==============================] - 2s 23ms/step - loss: 0.0020\n",
            "Epoch 25/200\n",
            "73/73 [==============================] - 2s 23ms/step - loss: 0.0020\n",
            "Epoch 26/200\n",
            "73/73 [==============================] - 2s 23ms/step - loss: 0.0023\n",
            "Epoch 27/200\n",
            "73/73 [==============================] - 2s 23ms/step - loss: 0.0019\n",
            "Epoch 28/200\n",
            "73/73 [==============================] - 2s 22ms/step - loss: 0.0019\n",
            "Epoch 29/200\n",
            "73/73 [==============================] - 2s 23ms/step - loss: 0.0018\n",
            "Epoch 30/200\n",
            "73/73 [==============================] - 2s 23ms/step - loss: 0.0016\n",
            "Epoch 31/200\n",
            "73/73 [==============================] - 2s 24ms/step - loss: 0.0017\n",
            "Epoch 32/200\n",
            "73/73 [==============================] - 2s 24ms/step - loss: 0.0017\n",
            "Epoch 33/200\n",
            "73/73 [==============================] - 2s 23ms/step - loss: 0.0020\n",
            "Epoch 34/200\n",
            "73/73 [==============================] - 2s 23ms/step - loss: 0.0016\n",
            "Epoch 35/200\n",
            "73/73 [==============================] - 2s 24ms/step - loss: 0.0020\n",
            "Epoch 36/200\n",
            "73/73 [==============================] - 2s 24ms/step - loss: 0.0016\n",
            "Epoch 37/200\n",
            "73/73 [==============================] - 2s 25ms/step - loss: 0.0018\n",
            "Epoch 38/200\n",
            "73/73 [==============================] - 2s 24ms/step - loss: 0.0018\n",
            "Epoch 39/200\n",
            "73/73 [==============================] - 2s 23ms/step - loss: 0.0016\n",
            "Epoch 40/200\n",
            "73/73 [==============================] - 2s 25ms/step - loss: 0.0019\n",
            "Epoch 41/200\n",
            "73/73 [==============================] - 2s 24ms/step - loss: 0.0018\n",
            "Epoch 42/200\n",
            "73/73 [==============================] - 2s 23ms/step - loss: 0.0017\n",
            "Epoch 43/200\n",
            "73/73 [==============================] - 2s 24ms/step - loss: 0.0017\n",
            "Epoch 44/200\n",
            "73/73 [==============================] - 2s 23ms/step - loss: 0.0014\n",
            "Epoch 45/200\n",
            "73/73 [==============================] - 2s 23ms/step - loss: 0.0015\n",
            "Epoch 46/200\n",
            "73/73 [==============================] - 2s 23ms/step - loss: 0.0013\n",
            "Epoch 47/200\n",
            "73/73 [==============================] - 2s 22ms/step - loss: 0.0018\n",
            "Epoch 48/200\n",
            "73/73 [==============================] - 2s 23ms/step - loss: 0.0013\n",
            "Epoch 49/200\n",
            "73/73 [==============================] - 2s 23ms/step - loss: 0.0015\n",
            "Epoch 50/200\n",
            "73/73 [==============================] - 2s 22ms/step - loss: 0.0014\n",
            "Epoch 51/200\n",
            "73/73 [==============================] - 2s 22ms/step - loss: 0.0016\n",
            "Epoch 52/200\n",
            "73/73 [==============================] - 2s 22ms/step - loss: 0.0015\n",
            "Epoch 53/200\n",
            "73/73 [==============================] - 2s 22ms/step - loss: 0.0016\n",
            "Epoch 54/200\n",
            "73/73 [==============================] - 2s 22ms/step - loss: 0.0014\n",
            "Epoch 55/200\n",
            "73/73 [==============================] - 2s 23ms/step - loss: 0.0014\n",
            "Epoch 56/200\n",
            "73/73 [==============================] - 2s 22ms/step - loss: 0.0014\n",
            "Epoch 57/200\n",
            "73/73 [==============================] - 2s 22ms/step - loss: 0.0015\n",
            "Epoch 58/200\n",
            "73/73 [==============================] - 2s 22ms/step - loss: 0.0013\n",
            "Epoch 59/200\n",
            "73/73 [==============================] - 2s 23ms/step - loss: 0.0012\n",
            "Epoch 60/200\n",
            "73/73 [==============================] - 2s 22ms/step - loss: 0.0011\n",
            "Epoch 61/200\n",
            "73/73 [==============================] - 2s 22ms/step - loss: 0.0013\n",
            "Epoch 62/200\n",
            "73/73 [==============================] - 2s 23ms/step - loss: 0.0013\n",
            "Epoch 63/200\n",
            "73/73 [==============================] - 2s 22ms/step - loss: 0.0014\n",
            "Epoch 64/200\n",
            "73/73 [==============================] - 2s 23ms/step - loss: 0.0013\n",
            "Epoch 65/200\n",
            "73/73 [==============================] - 2s 22ms/step - loss: 0.0013\n",
            "Epoch 66/200\n",
            "73/73 [==============================] - 2s 22ms/step - loss: 0.0014\n",
            "Epoch 67/200\n",
            "73/73 [==============================] - 2s 23ms/step - loss: 0.0014\n",
            "Epoch 68/200\n",
            "73/73 [==============================] - 2s 23ms/step - loss: 0.0013\n",
            "Epoch 69/200\n",
            "73/73 [==============================] - 2s 23ms/step - loss: 0.0014\n",
            "Epoch 70/200\n",
            "73/73 [==============================] - 2s 22ms/step - loss: 0.0012\n",
            "Epoch 71/200\n",
            "73/73 [==============================] - 2s 22ms/step - loss: 0.0013\n",
            "Epoch 72/200\n",
            "73/73 [==============================] - 2s 22ms/step - loss: 0.0012\n",
            "Epoch 73/200\n",
            "73/73 [==============================] - 2s 23ms/step - loss: 0.0012\n",
            "Epoch 74/200\n",
            "73/73 [==============================] - 2s 23ms/step - loss: 0.0012\n",
            "Epoch 75/200\n",
            "73/73 [==============================] - 2s 23ms/step - loss: 0.0013\n",
            "Epoch 76/200\n",
            "73/73 [==============================] - 2s 24ms/step - loss: 0.0012\n",
            "Epoch 77/200\n",
            "73/73 [==============================] - 2s 22ms/step - loss: 0.0011\n",
            "Epoch 78/200\n",
            "73/73 [==============================] - 2s 22ms/step - loss: 0.0011\n",
            "Epoch 79/200\n",
            "73/73 [==============================] - 2s 22ms/step - loss: 0.0012\n",
            "Epoch 80/200\n",
            "73/73 [==============================] - 2s 23ms/step - loss: 0.0012\n",
            "Epoch 81/200\n",
            "73/73 [==============================] - 2s 23ms/step - loss: 0.0012\n",
            "Epoch 82/200\n",
            "73/73 [==============================] - 2s 22ms/step - loss: 0.0012\n",
            "Epoch 83/200\n",
            "73/73 [==============================] - 2s 23ms/step - loss: 0.0011\n",
            "Epoch 84/200\n",
            "73/73 [==============================] - 2s 23ms/step - loss: 0.0010\n",
            "Epoch 85/200\n",
            "73/73 [==============================] - 2s 22ms/step - loss: 0.0012\n",
            "Epoch 86/200\n",
            "73/73 [==============================] - 2s 22ms/step - loss: 0.0012\n",
            "Epoch 87/200\n",
            "73/73 [==============================] - 2s 23ms/step - loss: 0.0012\n",
            "Epoch 88/200\n",
            "73/73 [==============================] - 2s 22ms/step - loss: 0.0012\n",
            "Epoch 89/200\n",
            "73/73 [==============================] - 2s 23ms/step - loss: 0.0011\n",
            "Epoch 90/200\n",
            "73/73 [==============================] - 2s 22ms/step - loss: 0.0011\n",
            "Epoch 91/200\n",
            "73/73 [==============================] - 2s 23ms/step - loss: 0.0013\n",
            "Epoch 92/200\n",
            "73/73 [==============================] - 2s 23ms/step - loss: 0.0012\n",
            "Epoch 93/200\n",
            "73/73 [==============================] - 2s 23ms/step - loss: 0.0013\n",
            "Epoch 94/200\n",
            "73/73 [==============================] - 2s 23ms/step - loss: 0.0011\n",
            "Epoch 95/200\n",
            "73/73 [==============================] - 2s 23ms/step - loss: 0.0010\n",
            "Epoch 96/200\n",
            "73/73 [==============================] - 2s 23ms/step - loss: 0.0011\n",
            "Epoch 97/200\n",
            "73/73 [==============================] - 2s 23ms/step - loss: 0.0012\n",
            "Epoch 98/200\n",
            "73/73 [==============================] - 2s 24ms/step - loss: 0.0013\n",
            "Epoch 99/200\n",
            "73/73 [==============================] - 2s 23ms/step - loss: 0.0012\n",
            "Epoch 100/200\n",
            "73/73 [==============================] - 2s 24ms/step - loss: 0.0011\n",
            "Epoch 101/200\n",
            "73/73 [==============================] - 2s 23ms/step - loss: 0.0012\n",
            "Epoch 102/200\n",
            "73/73 [==============================] - 2s 23ms/step - loss: 0.0011\n",
            "Epoch 103/200\n",
            "73/73 [==============================] - 2s 23ms/step - loss: 0.0012\n",
            "Epoch 104/200\n",
            "73/73 [==============================] - 2s 23ms/step - loss: 0.0011\n",
            "Epoch 105/200\n",
            "73/73 [==============================] - 2s 23ms/step - loss: 0.0010\n",
            "Epoch 106/200\n",
            "73/73 [==============================] - 2s 23ms/step - loss: 0.0011\n",
            "Epoch 107/200\n",
            "73/73 [==============================] - 2s 23ms/step - loss: 0.0012\n",
            "Epoch 108/200\n",
            "73/73 [==============================] - 2s 23ms/step - loss: 0.0012\n",
            "Epoch 109/200\n",
            "73/73 [==============================] - 2s 25ms/step - loss: 0.0011\n",
            "Epoch 110/200\n",
            "73/73 [==============================] - 2s 24ms/step - loss: 0.0010\n",
            "Epoch 111/200\n",
            "73/73 [==============================] - 2s 25ms/step - loss: 0.0012\n",
            "Epoch 112/200\n",
            "73/73 [==============================] - 2s 25ms/step - loss: 0.0011\n",
            "Epoch 113/200\n",
            "73/73 [==============================] - 2s 23ms/step - loss: 0.0011\n",
            "Epoch 114/200\n",
            "73/73 [==============================] - 2s 23ms/step - loss: 0.0012\n",
            "Epoch 115/200\n",
            "73/73 [==============================] - 2s 23ms/step - loss: 0.0012\n",
            "Epoch 116/200\n",
            "73/73 [==============================] - 2s 23ms/step - loss: 0.0012\n",
            "Epoch 117/200\n",
            "73/73 [==============================] - 2s 23ms/step - loss: 0.0011\n",
            "Epoch 118/200\n",
            "73/73 [==============================] - 2s 23ms/step - loss: 0.0011\n",
            "Epoch 119/200\n",
            "73/73 [==============================] - 2s 23ms/step - loss: 0.0011\n",
            "Epoch 120/200\n",
            "73/73 [==============================] - 2s 23ms/step - loss: 0.0011\n",
            "Epoch 121/200\n",
            "73/73 [==============================] - 2s 23ms/step - loss: 0.0010\n",
            "Epoch 122/200\n",
            "73/73 [==============================] - 2s 23ms/step - loss: 0.0011\n",
            "Epoch 123/200\n",
            "73/73 [==============================] - 2s 22ms/step - loss: 0.0010\n",
            "Epoch 124/200\n",
            "73/73 [==============================] - 2s 23ms/step - loss: 0.0010\n",
            "Epoch 125/200\n",
            "73/73 [==============================] - 2s 23ms/step - loss: 0.0012\n",
            "Epoch 126/200\n",
            "73/73 [==============================] - 2s 23ms/step - loss: 0.0012\n",
            "Epoch 127/200\n",
            "73/73 [==============================] - 2s 23ms/step - loss: 0.0011\n",
            "Epoch 128/200\n",
            "73/73 [==============================] - 2s 23ms/step - loss: 0.0011\n",
            "Epoch 129/200\n",
            "73/73 [==============================] - 2s 22ms/step - loss: 0.0012\n",
            "Epoch 130/200\n",
            "73/73 [==============================] - 2s 22ms/step - loss: 0.0011\n",
            "Epoch 131/200\n",
            "73/73 [==============================] - 2s 23ms/step - loss: 0.0012\n",
            "Epoch 132/200\n",
            "73/73 [==============================] - 2s 23ms/step - loss: 0.0011\n",
            "Epoch 133/200\n",
            "73/73 [==============================] - 2s 23ms/step - loss: 0.0011\n",
            "Epoch 134/200\n",
            "73/73 [==============================] - 2s 23ms/step - loss: 0.0012\n",
            "Epoch 135/200\n",
            "73/73 [==============================] - 2s 23ms/step - loss: 0.0011\n",
            "Epoch 136/200\n",
            "73/73 [==============================] - 2s 23ms/step - loss: 0.0010\n",
            "Epoch 137/200\n",
            "73/73 [==============================] - 2s 23ms/step - loss: 0.0011\n",
            "Epoch 138/200\n",
            "73/73 [==============================] - 2s 23ms/step - loss: 9.9847e-04\n",
            "Epoch 139/200\n",
            "73/73 [==============================] - 2s 23ms/step - loss: 0.0011\n",
            "Epoch 140/200\n",
            "73/73 [==============================] - 2s 23ms/step - loss: 0.0011\n",
            "Epoch 141/200\n",
            "73/73 [==============================] - 2s 23ms/step - loss: 0.0012\n",
            "Epoch 142/200\n",
            "73/73 [==============================] - 2s 23ms/step - loss: 0.0010\n",
            "Epoch 143/200\n",
            "73/73 [==============================] - 2s 23ms/step - loss: 0.0011\n",
            "Epoch 144/200\n",
            "73/73 [==============================] - 2s 23ms/step - loss: 0.0012\n",
            "Epoch 145/200\n",
            "73/73 [==============================] - 2s 23ms/step - loss: 9.8128e-04\n",
            "Epoch 146/200\n",
            "73/73 [==============================] - 2s 22ms/step - loss: 0.0012\n",
            "Epoch 147/200\n",
            "73/73 [==============================] - 2s 23ms/step - loss: 0.0011\n",
            "Epoch 148/200\n",
            "73/73 [==============================] - 2s 23ms/step - loss: 0.0011\n",
            "Epoch 149/200\n",
            "73/73 [==============================] - 2s 23ms/step - loss: 9.9440e-04\n",
            "Epoch 150/200\n",
            "73/73 [==============================] - 2s 23ms/step - loss: 0.0011\n",
            "Epoch 151/200\n",
            "73/73 [==============================] - 2s 23ms/step - loss: 0.0011\n",
            "Epoch 152/200\n",
            "73/73 [==============================] - 2s 23ms/step - loss: 0.0011\n",
            "Epoch 153/200\n",
            "73/73 [==============================] - 2s 23ms/step - loss: 0.0012\n",
            "Epoch 154/200\n",
            "73/73 [==============================] - 2s 23ms/step - loss: 0.0012\n",
            "Epoch 155/200\n",
            "73/73 [==============================] - 2s 22ms/step - loss: 0.0011\n",
            "Epoch 156/200\n",
            "73/73 [==============================] - 2s 23ms/step - loss: 0.0011\n",
            "Epoch 157/200\n",
            "73/73 [==============================] - 2s 22ms/step - loss: 9.7801e-04\n",
            "Epoch 158/200\n",
            "73/73 [==============================] - 2s 23ms/step - loss: 0.0011\n",
            "Epoch 159/200\n",
            "73/73 [==============================] - 2s 22ms/step - loss: 0.0011\n",
            "Epoch 160/200\n",
            "73/73 [==============================] - 2s 22ms/step - loss: 9.5077e-04\n",
            "Epoch 161/200\n",
            "73/73 [==============================] - 2s 23ms/step - loss: 0.0011\n",
            "Epoch 162/200\n",
            "73/73 [==============================] - 2s 23ms/step - loss: 0.0012\n",
            "Epoch 163/200\n",
            "73/73 [==============================] - 2s 23ms/step - loss: 0.0010\n",
            "Epoch 164/200\n",
            "73/73 [==============================] - 2s 23ms/step - loss: 0.0011\n",
            "Epoch 165/200\n",
            "73/73 [==============================] - 2s 23ms/step - loss: 0.0010\n",
            "Epoch 166/200\n",
            "73/73 [==============================] - 2s 23ms/step - loss: 0.0011\n",
            "Epoch 167/200\n",
            "73/73 [==============================] - 2s 24ms/step - loss: 9.1578e-04\n",
            "Epoch 168/200\n",
            "73/73 [==============================] - 2s 23ms/step - loss: 9.2054e-04\n",
            "Epoch 169/200\n",
            "73/73 [==============================] - 2s 24ms/step - loss: 0.0010\n",
            "Epoch 170/200\n",
            "73/73 [==============================] - 2s 23ms/step - loss: 8.9500e-04\n",
            "Epoch 171/200\n",
            "73/73 [==============================] - 2s 23ms/step - loss: 0.0011\n",
            "Epoch 172/200\n",
            "73/73 [==============================] - 2s 23ms/step - loss: 0.0013\n",
            "Epoch 173/200\n",
            "73/73 [==============================] - 2s 23ms/step - loss: 0.0011\n",
            "Epoch 174/200\n",
            "73/73 [==============================] - 2s 23ms/step - loss: 0.0011\n",
            "Epoch 175/200\n",
            "73/73 [==============================] - 2s 23ms/step - loss: 0.0011\n",
            "Epoch 176/200\n",
            "73/73 [==============================] - 2s 24ms/step - loss: 9.9678e-04\n",
            "Epoch 177/200\n",
            "73/73 [==============================] - 2s 23ms/step - loss: 0.0011\n",
            "Epoch 178/200\n",
            "73/73 [==============================] - 2s 24ms/step - loss: 0.0012\n",
            "Epoch 179/200\n",
            "73/73 [==============================] - 2s 23ms/step - loss: 0.0011\n",
            "Epoch 180/200\n",
            "73/73 [==============================] - 2s 24ms/step - loss: 0.0011\n",
            "Epoch 181/200\n",
            "73/73 [==============================] - 2s 23ms/step - loss: 9.2715e-04\n",
            "Epoch 182/200\n",
            "73/73 [==============================] - 2s 24ms/step - loss: 9.6411e-04\n",
            "Epoch 183/200\n",
            "73/73 [==============================] - 2s 24ms/step - loss: 0.0011\n",
            "Epoch 184/200\n",
            "73/73 [==============================] - 2s 23ms/step - loss: 8.4291e-04\n",
            "Epoch 185/200\n",
            "73/73 [==============================] - 2s 23ms/step - loss: 0.0011\n",
            "Epoch 186/200\n",
            "73/73 [==============================] - 2s 24ms/step - loss: 0.0011\n",
            "Epoch 187/200\n",
            "73/73 [==============================] - 2s 25ms/step - loss: 0.0011\n",
            "Epoch 188/200\n",
            "73/73 [==============================] - 2s 23ms/step - loss: 0.0011\n",
            "Epoch 189/200\n",
            "73/73 [==============================] - 2s 23ms/step - loss: 9.0174e-04\n",
            "Epoch 190/200\n",
            "73/73 [==============================] - 2s 23ms/step - loss: 9.6668e-04\n",
            "Epoch 191/200\n",
            "73/73 [==============================] - 2s 23ms/step - loss: 0.0010\n",
            "Epoch 192/200\n",
            "73/73 [==============================] - 2s 24ms/step - loss: 0.0010\n",
            "Epoch 193/200\n",
            "73/73 [==============================] - 2s 23ms/step - loss: 9.3978e-04\n",
            "Epoch 194/200\n",
            "73/73 [==============================] - 2s 23ms/step - loss: 0.0010\n",
            "Epoch 195/200\n",
            "73/73 [==============================] - 2s 23ms/step - loss: 0.0010\n",
            "Epoch 196/200\n",
            "73/73 [==============================] - 2s 23ms/step - loss: 9.9111e-04\n",
            "Epoch 197/200\n",
            "73/73 [==============================] - 2s 23ms/step - loss: 0.0011\n",
            "Epoch 198/200\n",
            "73/73 [==============================] - 2s 23ms/step - loss: 0.0010\n",
            "Epoch 199/200\n",
            "73/73 [==============================] - 2s 23ms/step - loss: 0.0011\n",
            "Epoch 200/200\n",
            "73/73 [==============================] - 2s 23ms/step - loss: 0.0011\n"
          ]
        }
      ]
    },
    {
      "cell_type": "code",
      "metadata": {
        "colab": {
          "base_uri": "https://localhost:8080/",
          "height": 295
        },
        "id": "me-iOYf8Sa-w",
        "outputId": "a4d575c6-3a59-4d9c-ce29-6c9428bcb096"
      },
      "source": [
        "plt.plot(history.history['loss']) \n",
        "plt.title('Model Loss')\n",
        "plt.ylabel('Loss')\n",
        "plt.xlabel('Epochs')\n",
        "plt.show()"
      ],
      "execution_count": null,
      "outputs": [
        {
          "output_type": "display_data",
          "data": {
            "image/png": "[encoded data removed]",
            "text/plain": [
              "<Figure size 432x288 with 1 Axes>"
            ]
          },
          "metadata": {
            "needs_background": "light"
          }
        }
      ]
    },
    {
      "cell_type": "code",
      "metadata": {
        "id": "ZyA6MaoKSbC-"
      },
      "source": [
        "predicted_data_modified = SimpleModel2.predict(X_test)\n",
        "predicted_data_modified = scaler.inverse_transform(predicted_data_modified)"
      ],
      "execution_count": null,
      "outputs": []
    },
    {
      "cell_type": "code",
      "metadata": {
        "colab": {
          "base_uri": "https://localhost:8080/",
          "height": 309
        },
        "id": "uUY_hDrIRtgE",
        "outputId": "96a31949-378c-4806-f82c-a0c7eaa33d77"
      },
      "source": [
        "plt.figure(figsize=(8,4), dpi=80, facecolor='w', edgecolor='k')\n",
        "plt.plot(test,color=\"LimeGreen\",label=\"Real values\")\n",
        "plt.plot(predicted_data_modified,color=\"Gold\",label=\"Predicted LSTM result\")\n",
        "plt.legend()\n",
        "plt.xlabel(\"Days\")\n",
        "plt.ylabel(\"Values\")\n",
        "plt.grid(True)\n",
        "plt.show()"
      ],
      "execution_count": null,
      "outputs": [
        {
          "output_type": "display_data",
          "data": {
            "image/png": "[encoded data removed]",
            "text/plain": [
              "<Figure size 640x320 with 1 Axes>"
            ]
          },
          "metadata": {}
        }
      ]
    },
    {
      "cell_type": "code",
      "metadata": {
        "id": "Y0ZBpJOkRtlP"
      },
      "source": [
        ""
      ],
      "execution_count": null,
      "outputs": []
    },
    {
      "cell_type": "code",
      "metadata": {
        "id": "AoFS3bd2Rtnc"
      },
      "source": [
        "path_test = \"//content/Google_Stock_Price_Test.csv\"\n",
        "test_data = pd.read_csv(path_test, sep =\",\")\n",
        "\n",
        "path_train = \"/content/Google_Stock_Price_Train.csv\"\n",
        "trainn_data = pd.read_csv(path_train,sep =\",\")\n",
        "\n",
        "\n"
      ],
      "execution_count": null,
      "outputs": []
    },
    {
      "cell_type": "code",
      "metadata": {
        "id": "WEXfqiJjRttK"
      },
      "source": [
        "real_stock_price = test_data.iloc[:,1:2].values\n",
        "training_set = trainn_data.iloc[:, 1:2].values"
      ],
      "execution_count": null,
      "outputs": []
    },
    {
      "cell_type": "code",
      "metadata": {
        "colab": {
          "base_uri": "https://localhost:8080/"
        },
        "id": "BlFhJAy8Rtvc",
        "outputId": "73dfd1cc-9823-4c78-8569-d77633e4ab8d"
      },
      "source": [
        "# Getting the predicted stock price of 2017\n",
        "dataset_total = pd.concat((trainn_data['Open'], test_data['Open']), axis = 0)\n",
        "inputs = dataset_total[len(dataset_total) - len(test_data) - 60:].values\n",
        "inputs = inputs.reshape(-1,1)\n",
        "inputs = scaler.transform(inputs)\n",
        "X_test = []\n",
        "for i in range(60, 80):\n",
        "    X_test.append(inputs[i-60:i, 0])\n",
        "X_test = np.array(X_test)\n",
        "X_test = np.reshape(X_test, (X_test.shape[0], X_test.shape[1], 1))\n",
        "predicted_stock_price = SimpleModel2.predict(X_test)\n",
        "predicted_stock_price = scaler.inverse_transform(predicted_stock_price)\n"
      ],
      "execution_count": null,
      "outputs": [
        {
          "output_type": "stream",
          "name": "stdout",
          "text": [
            "WARNING:tensorflow:Model was constructed with shape (None, 50, 1) for input KerasTensor(type_spec=TensorSpec(shape=(None, 50, 1), dtype=tf.float32, name='simple_rnn_7_input'), name='simple_rnn_7_input', description=\"created by layer 'simple_rnn_7_input'\"), but it was called on an input with incompatible shape (None, 60, 1).\n"
          ]
        }
      ]
    },
    {
      "cell_type": "code",
      "metadata": {
        "colab": {
          "base_uri": "https://localhost:8080/",
          "height": 295
        },
        "id": "jvh2e31DRt06",
        "outputId": "e31a09e6-76fd-4417-b725-b985c0033126"
      },
      "source": [
        "# Visualising the results\n",
        "plt.plot(real_stock_price, color = 'red', label = 'Actual Google Stock Price')\n",
        "plt.plot(predicted_stock_price, color = 'blue', label = 'Predicted Google Stock Price simple RNN')\n",
        "plt.title('Google Stock Price Prediction with simple RNN')\n",
        "plt.xlabel('Time')\n",
        "plt.ylabel('Actual Google Stock Price')\n",
        "plt.legend()\n",
        "plt.show()"
      ],
      "execution_count": null,
      "outputs": [
        {
          "output_type": "display_data",
          "data": {
            "image/png": "[encoded data removed]",
            "text/plain": [
              "<Figure size 432x288 with 1 Axes>"
            ]
          },
          "metadata": {
            "needs_background": "light"
          }
        }
      ]
    },
    {
      "cell_type": "code",
      "metadata": {
        "id": "wUs7Qc84Rt5f"
      },
      "source": [
        "#LSTM Model2"
      ],
      "execution_count": null,
      "outputs": []
    },
    {
      "cell_type": "code",
      "metadata": {
        "colab": {
          "base_uri": "https://localhost:8080/"
        },
        "id": "CYZiKgnwRt7u",
        "outputId": "c66ad540-1700-47e2-8894-3c7bb709a2bf"
      },
      "source": [
        "\n",
        "lstmModel2 = Sequential()\n",
        "lstmModel2.add(LSTM(10, input_shape=(None,1)))\n",
        "lstmModel2.add(Dense(1))\n",
        "lstmModel2.compile(loss='mean_squared_error', optimizer='adam')\n",
        "history = lstmModel2.fit(X_train, y_train, epochs=250, batch_size=5)"
      ],
      "execution_count": null,
      "outputs": [
        {
          "output_type": "stream",
          "name": "stdout",
          "text": [
            "Epoch 1/250\n",
            "232/232 [==============================] - 6s 17ms/step - loss: 0.0201\n",
            "Epoch 2/250\n",
            "232/232 [==============================] - 4s 17ms/step - loss: 9.4215e-04\n",
            "Epoch 3/250\n",
            "232/232 [==============================] - 4s 17ms/step - loss: 9.5740e-04\n",
            "Epoch 4/250\n",
            "232/232 [==============================] - 4s 17ms/step - loss: 8.4279e-04\n",
            "Epoch 5/250\n",
            "232/232 [==============================] - 4s 17ms/step - loss: 7.5772e-04\n",
            "Epoch 6/250\n",
            "232/232 [==============================] - 4s 17ms/step - loss: 7.6151e-04\n",
            "Epoch 7/250\n",
            "232/232 [==============================] - 4s 18ms/step - loss: 7.2369e-04\n",
            "Epoch 8/250\n",
            "232/232 [==============================] - 4s 18ms/step - loss: 6.9259e-04\n",
            "Epoch 9/250\n",
            "232/232 [==============================] - 4s 18ms/step - loss: 6.3544e-04\n",
            "Epoch 10/250\n",
            "232/232 [==============================] - 4s 18ms/step - loss: 6.0364e-04\n",
            "Epoch 11/250\n",
            "232/232 [==============================] - 4s 18ms/step - loss: 6.0899e-04\n",
            "Epoch 12/250\n",
            "232/232 [==============================] - 4s 18ms/step - loss: 5.8869e-04\n",
            "Epoch 13/250\n",
            "232/232 [==============================] - 4s 18ms/step - loss: 5.8896e-04\n",
            "Epoch 14/250\n",
            "232/232 [==============================] - 4s 18ms/step - loss: 5.5402e-04\n",
            "Epoch 15/250\n",
            "232/232 [==============================] - 4s 18ms/step - loss: 5.5718e-04\n",
            "Epoch 16/250\n",
            "232/232 [==============================] - 4s 18ms/step - loss: 5.1798e-04\n",
            "Epoch 17/250\n",
            "232/232 [==============================] - 4s 18ms/step - loss: 5.0891e-04\n",
            "Epoch 18/250\n",
            "232/232 [==============================] - 4s 17ms/step - loss: 4.8541e-04\n",
            "Epoch 19/250\n",
            "232/232 [==============================] - 4s 18ms/step - loss: 4.9169e-04\n",
            "Epoch 20/250\n",
            "232/232 [==============================] - 4s 18ms/step - loss: 4.8512e-04\n",
            "Epoch 21/250\n",
            "232/232 [==============================] - 4s 18ms/step - loss: 4.9052e-04\n",
            "Epoch 22/250\n",
            "232/232 [==============================] - 4s 17ms/step - loss: 4.6386e-04\n",
            "Epoch 23/250\n",
            "232/232 [==============================] - 4s 17ms/step - loss: 4.4769e-04\n",
            "Epoch 24/250\n",
            "232/232 [==============================] - 4s 17ms/step - loss: 4.3215e-04\n",
            "Epoch 25/250\n",
            "232/232 [==============================] - 4s 18ms/step - loss: 4.5738e-04\n",
            "Epoch 26/250\n",
            "232/232 [==============================] - 4s 17ms/step - loss: 4.2467e-04\n",
            "Epoch 27/250\n",
            "232/232 [==============================] - 4s 17ms/step - loss: 4.1750e-04\n",
            "Epoch 28/250\n",
            "232/232 [==============================] - 4s 17ms/step - loss: 4.0403e-04\n",
            "Epoch 29/250\n",
            "232/232 [==============================] - 4s 17ms/step - loss: 4.2430e-04\n",
            "Epoch 30/250\n",
            "232/232 [==============================] - 4s 17ms/step - loss: 3.7534e-04\n",
            "Epoch 31/250\n",
            "232/232 [==============================] - 4s 17ms/step - loss: 3.8131e-04\n",
            "Epoch 32/250\n",
            "232/232 [==============================] - 4s 17ms/step - loss: 3.8903e-04\n",
            "Epoch 33/250\n",
            "232/232 [==============================] - 4s 17ms/step - loss: 3.6560e-04\n",
            "Epoch 34/250\n",
            "232/232 [==============================] - 4s 17ms/step - loss: 3.6646e-04\n",
            "Epoch 35/250\n",
            "232/232 [==============================] - 4s 17ms/step - loss: 3.6437e-04\n",
            "Epoch 36/250\n",
            "232/232 [==============================] - 4s 17ms/step - loss: 3.7432e-04\n",
            "Epoch 37/250\n",
            "232/232 [==============================] - 4s 17ms/step - loss: 3.5554e-04\n",
            "Epoch 38/250\n",
            "232/232 [==============================] - 4s 18ms/step - loss: 3.4679e-04\n",
            "Epoch 39/250\n",
            "232/232 [==============================] - 4s 17ms/step - loss: 3.5400e-04\n",
            "Epoch 40/250\n",
            "232/232 [==============================] - 4s 18ms/step - loss: 3.2446e-04\n",
            "Epoch 41/250\n",
            "232/232 [==============================] - 4s 18ms/step - loss: 3.3152e-04\n",
            "Epoch 42/250\n",
            "232/232 [==============================] - 4s 18ms/step - loss: 3.3310e-04\n",
            "Epoch 43/250\n",
            "232/232 [==============================] - 4s 18ms/step - loss: 3.1055e-04\n",
            "Epoch 44/250\n",
            "232/232 [==============================] - 4s 17ms/step - loss: 3.3324e-04\n",
            "Epoch 45/250\n",
            "232/232 [==============================] - 4s 17ms/step - loss: 3.5481e-04\n",
            "Epoch 46/250\n",
            "232/232 [==============================] - 4s 17ms/step - loss: 3.2154e-04\n",
            "Epoch 47/250\n",
            "232/232 [==============================] - 4s 17ms/step - loss: 3.1927e-04\n",
            "Epoch 48/250\n",
            "232/232 [==============================] - 4s 18ms/step - loss: 3.0639e-04\n",
            "Epoch 49/250\n",
            "232/232 [==============================] - 4s 17ms/step - loss: 3.0974e-04\n",
            "Epoch 50/250\n",
            "232/232 [==============================] - 4s 17ms/step - loss: 3.2411e-04\n",
            "Epoch 51/250\n",
            "232/232 [==============================] - 4s 17ms/step - loss: 3.1739e-04\n",
            "Epoch 52/250\n",
            "232/232 [==============================] - 4s 17ms/step - loss: 3.2737e-04\n",
            "Epoch 53/250\n",
            "232/232 [==============================] - 4s 17ms/step - loss: 3.1240e-04\n",
            "Epoch 54/250\n",
            "232/232 [==============================] - 4s 17ms/step - loss: 3.1235e-04\n",
            "Epoch 55/250\n",
            "232/232 [==============================] - 4s 18ms/step - loss: 3.0936e-04\n",
            "Epoch 56/250\n",
            "232/232 [==============================] - 4s 18ms/step - loss: 2.9202e-04\n",
            "Epoch 57/250\n",
            "232/232 [==============================] - 4s 18ms/step - loss: 2.9837e-04\n",
            "Epoch 58/250\n",
            "232/232 [==============================] - 4s 17ms/step - loss: 3.3438e-04\n",
            "Epoch 59/250\n",
            "232/232 [==============================] - 4s 17ms/step - loss: 3.0224e-04\n",
            "Epoch 60/250\n",
            "232/232 [==============================] - 4s 17ms/step - loss: 3.0561e-04\n",
            "Epoch 61/250\n",
            "232/232 [==============================] - 4s 17ms/step - loss: 3.1302e-04\n",
            "Epoch 62/250\n",
            "232/232 [==============================] - 4s 17ms/step - loss: 3.1000e-04\n",
            "Epoch 63/250\n",
            "232/232 [==============================] - 4s 17ms/step - loss: 3.1315e-04\n",
            "Epoch 64/250\n",
            "232/232 [==============================] - 4s 18ms/step - loss: 3.1400e-04\n",
            "Epoch 65/250\n",
            "232/232 [==============================] - 4s 18ms/step - loss: 2.9713e-04\n",
            "Epoch 66/250\n",
            "232/232 [==============================] - 4s 17ms/step - loss: 3.0154e-04\n",
            "Epoch 67/250\n",
            "232/232 [==============================] - 4s 18ms/step - loss: 3.0209e-04\n",
            "Epoch 68/250\n",
            "232/232 [==============================] - 4s 17ms/step - loss: 2.9272e-04\n",
            "Epoch 69/250\n",
            "232/232 [==============================] - 4s 17ms/step - loss: 3.0512e-04\n",
            "Epoch 70/250\n",
            "232/232 [==============================] - 4s 18ms/step - loss: 3.0513e-04\n",
            "Epoch 71/250\n",
            "232/232 [==============================] - 4s 17ms/step - loss: 3.2056e-04\n",
            "Epoch 72/250\n",
            "232/232 [==============================] - 4s 18ms/step - loss: 3.0465e-04\n",
            "Epoch 73/250\n",
            "232/232 [==============================] - 4s 17ms/step - loss: 3.0579e-04\n",
            "Epoch 74/250\n",
            "232/232 [==============================] - 4s 17ms/step - loss: 2.8502e-04\n",
            "Epoch 75/250\n",
            "232/232 [==============================] - 4s 17ms/step - loss: 2.9642e-04\n",
            "Epoch 76/250\n",
            "232/232 [==============================] - 4s 17ms/step - loss: 3.0122e-04\n",
            "Epoch 77/250\n",
            "232/232 [==============================] - 4s 17ms/step - loss: 2.9492e-04\n",
            "Epoch 78/250\n",
            "232/232 [==============================] - 4s 17ms/step - loss: 2.8428e-04\n",
            "Epoch 79/250\n",
            "232/232 [==============================] - 4s 17ms/step - loss: 3.0644e-04\n",
            "Epoch 80/250\n",
            "232/232 [==============================] - 4s 18ms/step - loss: 2.9046e-04\n",
            "Epoch 81/250\n",
            "232/232 [==============================] - 4s 17ms/step - loss: 2.9154e-04\n",
            "Epoch 82/250\n",
            "232/232 [==============================] - 4s 18ms/step - loss: 2.9314e-04\n",
            "Epoch 83/250\n",
            "232/232 [==============================] - 4s 18ms/step - loss: 2.8675e-04\n",
            "Epoch 84/250\n",
            "232/232 [==============================] - 4s 18ms/step - loss: 2.9611e-04\n",
            "Epoch 85/250\n",
            "232/232 [==============================] - 4s 18ms/step - loss: 2.9970e-04\n",
            "Epoch 86/250\n",
            "232/232 [==============================] - 4s 18ms/step - loss: 2.8793e-04\n",
            "Epoch 87/250\n",
            "232/232 [==============================] - 4s 18ms/step - loss: 2.9693e-04\n",
            "Epoch 88/250\n",
            "232/232 [==============================] - 4s 17ms/step - loss: 2.9295e-04\n",
            "Epoch 89/250\n",
            "232/232 [==============================] - 4s 18ms/step - loss: 3.0203e-04\n",
            "Epoch 90/250\n",
            "232/232 [==============================] - 4s 18ms/step - loss: 2.9715e-04\n",
            "Epoch 91/250\n",
            "232/232 [==============================] - 4s 18ms/step - loss: 2.8990e-04\n",
            "Epoch 92/250\n",
            "232/232 [==============================] - 4s 18ms/step - loss: 2.9332e-04\n",
            "Epoch 93/250\n",
            "232/232 [==============================] - 4s 18ms/step - loss: 2.8013e-04\n",
            "Epoch 94/250\n",
            "232/232 [==============================] - 4s 18ms/step - loss: 2.9226e-04\n",
            "Epoch 95/250\n",
            "232/232 [==============================] - 4s 18ms/step - loss: 2.9214e-04\n",
            "Epoch 96/250\n",
            "232/232 [==============================] - 4s 18ms/step - loss: 2.9222e-04\n",
            "Epoch 97/250\n",
            "232/232 [==============================] - 4s 18ms/step - loss: 2.8919e-04\n",
            "Epoch 98/250\n",
            "232/232 [==============================] - 4s 18ms/step - loss: 3.0117e-04\n",
            "Epoch 99/250\n",
            "232/232 [==============================] - 4s 18ms/step - loss: 2.8386e-04\n",
            "Epoch 100/250\n",
            "232/232 [==============================] - 4s 18ms/step - loss: 2.9032e-04\n",
            "Epoch 101/250\n",
            "232/232 [==============================] - 4s 18ms/step - loss: 3.0373e-04\n",
            "Epoch 102/250\n",
            "232/232 [==============================] - 4s 18ms/step - loss: 2.9791e-04\n",
            "Epoch 103/250\n",
            "232/232 [==============================] - 4s 17ms/step - loss: 2.9231e-04\n",
            "Epoch 104/250\n",
            "232/232 [==============================] - 4s 17ms/step - loss: 2.8641e-04\n",
            "Epoch 105/250\n",
            "232/232 [==============================] - 4s 18ms/step - loss: 3.0196e-04\n",
            "Epoch 106/250\n",
            "232/232 [==============================] - 4s 18ms/step - loss: 2.8436e-04\n",
            "Epoch 107/250\n",
            "232/232 [==============================] - 4s 18ms/step - loss: 3.0376e-04\n",
            "Epoch 108/250\n",
            "232/232 [==============================] - 4s 18ms/step - loss: 2.9982e-04\n",
            "Epoch 109/250\n",
            "232/232 [==============================] - 4s 17ms/step - loss: 2.8197e-04\n",
            "Epoch 110/250\n",
            "232/232 [==============================] - 4s 17ms/step - loss: 2.8346e-04\n",
            "Epoch 111/250\n",
            "232/232 [==============================] - 4s 18ms/step - loss: 2.8533e-04\n",
            "Epoch 112/250\n",
            "232/232 [==============================] - 4s 18ms/step - loss: 2.8534e-04\n",
            "Epoch 113/250\n",
            "232/232 [==============================] - 4s 18ms/step - loss: 2.8911e-04\n",
            "Epoch 114/250\n",
            "232/232 [==============================] - 4s 18ms/step - loss: 2.7853e-04\n",
            "Epoch 115/250\n",
            "232/232 [==============================] - 4s 18ms/step - loss: 2.9098e-04\n",
            "Epoch 116/250\n",
            "232/232 [==============================] - 4s 18ms/step - loss: 3.0387e-04\n",
            "Epoch 117/250\n",
            "232/232 [==============================] - 4s 18ms/step - loss: 2.8485e-04\n",
            "Epoch 118/250\n",
            "232/232 [==============================] - 4s 18ms/step - loss: 2.7964e-04\n",
            "Epoch 119/250\n",
            "232/232 [==============================] - 4s 17ms/step - loss: 2.8832e-04\n",
            "Epoch 120/250\n",
            "232/232 [==============================] - 4s 18ms/step - loss: 2.8973e-04\n",
            "Epoch 121/250\n",
            "232/232 [==============================] - 4s 18ms/step - loss: 2.9613e-04\n",
            "Epoch 122/250\n",
            "232/232 [==============================] - 4s 18ms/step - loss: 2.9674e-04\n",
            "Epoch 123/250\n",
            "232/232 [==============================] - 4s 18ms/step - loss: 2.7945e-04\n",
            "Epoch 124/250\n",
            "232/232 [==============================] - 4s 17ms/step - loss: 2.8887e-04\n",
            "Epoch 125/250\n",
            "232/232 [==============================] - 4s 17ms/step - loss: 2.9308e-04\n",
            "Epoch 126/250\n",
            "232/232 [==============================] - 4s 17ms/step - loss: 2.8037e-04\n",
            "Epoch 127/250\n",
            "232/232 [==============================] - 4s 18ms/step - loss: 2.9307e-04\n",
            "Epoch 128/250\n",
            "232/232 [==============================] - 4s 18ms/step - loss: 2.8121e-04\n",
            "Epoch 129/250\n",
            "232/232 [==============================] - 4s 18ms/step - loss: 2.9405e-04\n",
            "Epoch 130/250\n",
            "232/232 [==============================] - 4s 18ms/step - loss: 2.8753e-04\n",
            "Epoch 131/250\n",
            "232/232 [==============================] - 4s 18ms/step - loss: 2.8620e-04\n",
            "Epoch 132/250\n",
            "232/232 [==============================] - 4s 17ms/step - loss: 2.8079e-04\n",
            "Epoch 133/250\n",
            "232/232 [==============================] - 4s 17ms/step - loss: 2.8634e-04\n",
            "Epoch 134/250\n",
            "232/232 [==============================] - 4s 17ms/step - loss: 2.8007e-04\n",
            "Epoch 135/250\n",
            "232/232 [==============================] - 4s 17ms/step - loss: 2.7899e-04\n",
            "Epoch 136/250\n",
            "232/232 [==============================] - 4s 17ms/step - loss: 2.8545e-04\n",
            "Epoch 137/250\n",
            "232/232 [==============================] - 4s 17ms/step - loss: 2.9187e-04\n",
            "Epoch 138/250\n",
            "232/232 [==============================] - 4s 18ms/step - loss: 2.8810e-04\n",
            "Epoch 139/250\n",
            "232/232 [==============================] - 4s 17ms/step - loss: 2.8186e-04\n",
            "Epoch 140/250\n",
            "232/232 [==============================] - 4s 17ms/step - loss: 2.8200e-04\n",
            "Epoch 141/250\n",
            "232/232 [==============================] - 4s 17ms/step - loss: 2.8691e-04\n",
            "Epoch 142/250\n",
            "232/232 [==============================] - 4s 17ms/step - loss: 2.9050e-04\n",
            "Epoch 143/250\n",
            "232/232 [==============================] - 4s 18ms/step - loss: 2.9331e-04\n",
            "Epoch 144/250\n",
            "232/232 [==============================] - 4s 18ms/step - loss: 2.8210e-04\n",
            "Epoch 145/250\n",
            "232/232 [==============================] - 4s 18ms/step - loss: 2.8965e-04\n",
            "Epoch 146/250\n",
            "232/232 [==============================] - 4s 18ms/step - loss: 2.8916e-04\n",
            "Epoch 147/250\n",
            "232/232 [==============================] - 4s 18ms/step - loss: 2.8646e-04\n",
            "Epoch 148/250\n",
            "232/232 [==============================] - 4s 18ms/step - loss: 2.8697e-04\n",
            "Epoch 149/250\n",
            "232/232 [==============================] - 4s 18ms/step - loss: 2.9651e-04\n",
            "Epoch 150/250\n",
            "232/232 [==============================] - 4s 18ms/step - loss: 2.9419e-04\n",
            "Epoch 151/250\n",
            "232/232 [==============================] - 4s 18ms/step - loss: 2.9368e-04\n",
            "Epoch 152/250\n",
            "232/232 [==============================] - 4s 18ms/step - loss: 2.9377e-04\n",
            "Epoch 153/250\n",
            "232/232 [==============================] - 4s 18ms/step - loss: 2.9229e-04\n",
            "Epoch 154/250\n",
            "232/232 [==============================] - 4s 18ms/step - loss: 2.9098e-04\n",
            "Epoch 155/250\n",
            "232/232 [==============================] - 4s 18ms/step - loss: 2.9657e-04\n",
            "Epoch 156/250\n",
            "232/232 [==============================] - 4s 18ms/step - loss: 2.8908e-04\n",
            "Epoch 157/250\n",
            "232/232 [==============================] - 4s 18ms/step - loss: 2.9561e-04\n",
            "Epoch 158/250\n",
            "232/232 [==============================] - 4s 18ms/step - loss: 2.8062e-04\n",
            "Epoch 159/250\n",
            "232/232 [==============================] - 4s 18ms/step - loss: 2.7860e-04\n",
            "Epoch 160/250\n",
            "232/232 [==============================] - 4s 18ms/step - loss: 2.8717e-04\n",
            "Epoch 161/250\n",
            "232/232 [==============================] - 4s 18ms/step - loss: 2.7830e-04\n",
            "Epoch 162/250\n",
            "232/232 [==============================] - 4s 18ms/step - loss: 2.7800e-04\n",
            "Epoch 163/250\n",
            "232/232 [==============================] - 4s 18ms/step - loss: 2.7938e-04\n",
            "Epoch 164/250\n",
            "232/232 [==============================] - 4s 18ms/step - loss: 2.8111e-04\n",
            "Epoch 165/250\n",
            "232/232 [==============================] - 4s 18ms/step - loss: 2.7753e-04\n",
            "Epoch 166/250\n",
            "232/232 [==============================] - 4s 18ms/step - loss: 2.8280e-04\n",
            "Epoch 167/250\n",
            "232/232 [==============================] - 4s 18ms/step - loss: 2.7461e-04\n",
            "Epoch 168/250\n",
            "232/232 [==============================] - 4s 18ms/step - loss: 2.8615e-04\n",
            "Epoch 169/250\n",
            "232/232 [==============================] - 4s 18ms/step - loss: 2.8959e-04\n",
            "Epoch 170/250\n",
            "232/232 [==============================] - 4s 18ms/step - loss: 2.8856e-04\n",
            "Epoch 171/250\n",
            "232/232 [==============================] - 4s 18ms/step - loss: 2.8654e-04\n",
            "Epoch 172/250\n",
            "232/232 [==============================] - 4s 18ms/step - loss: 2.9209e-04\n",
            "Epoch 173/250\n",
            "232/232 [==============================] - 4s 18ms/step - loss: 2.7773e-04\n",
            "Epoch 174/250\n",
            "232/232 [==============================] - 4s 18ms/step - loss: 2.7248e-04\n",
            "Epoch 175/250\n",
            "232/232 [==============================] - 4s 18ms/step - loss: 2.9577e-04\n",
            "Epoch 176/250\n",
            "232/232 [==============================] - 4s 18ms/step - loss: 2.8423e-04\n",
            "Epoch 177/250\n",
            "232/232 [==============================] - 4s 18ms/step - loss: 2.8504e-04\n",
            "Epoch 178/250\n",
            "232/232 [==============================] - 4s 18ms/step - loss: 2.9328e-04\n",
            "Epoch 179/250\n",
            "232/232 [==============================] - 4s 18ms/step - loss: 2.8361e-04\n",
            "Epoch 180/250\n",
            "232/232 [==============================] - 4s 18ms/step - loss: 2.8181e-04\n",
            "Epoch 181/250\n",
            "232/232 [==============================] - 4s 18ms/step - loss: 2.8623e-04\n",
            "Epoch 182/250\n",
            "232/232 [==============================] - 4s 18ms/step - loss: 2.7562e-04\n",
            "Epoch 183/250\n",
            "232/232 [==============================] - 4s 18ms/step - loss: 2.8631e-04\n",
            "Epoch 184/250\n",
            "232/232 [==============================] - 4s 18ms/step - loss: 2.7739e-04\n",
            "Epoch 185/250\n",
            "232/232 [==============================] - 4s 18ms/step - loss: 2.9057e-04\n",
            "Epoch 186/250\n",
            "232/232 [==============================] - 4s 18ms/step - loss: 2.8316e-04\n",
            "Epoch 187/250\n",
            "232/232 [==============================] - 4s 18ms/step - loss: 2.8011e-04\n",
            "Epoch 188/250\n",
            "232/232 [==============================] - 4s 18ms/step - loss: 2.9072e-04\n",
            "Epoch 189/250\n",
            "232/232 [==============================] - 4s 18ms/step - loss: 2.8964e-04\n",
            "Epoch 190/250\n",
            "232/232 [==============================] - 4s 18ms/step - loss: 2.8754e-04\n",
            "Epoch 191/250\n",
            "232/232 [==============================] - 4s 18ms/step - loss: 2.8546e-04\n",
            "Epoch 192/250\n",
            "232/232 [==============================] - 4s 18ms/step - loss: 2.8593e-04\n",
            "Epoch 193/250\n",
            "232/232 [==============================] - 4s 18ms/step - loss: 2.8210e-04\n",
            "Epoch 194/250\n",
            "232/232 [==============================] - 4s 18ms/step - loss: 2.8099e-04\n",
            "Epoch 195/250\n",
            "232/232 [==============================] - 4s 18ms/step - loss: 2.8209e-04\n",
            "Epoch 196/250\n",
            "232/232 [==============================] - 4s 17ms/step - loss: 2.9313e-04\n",
            "Epoch 197/250\n",
            "232/232 [==============================] - 4s 18ms/step - loss: 2.8598e-04\n",
            "Epoch 198/250\n",
            "232/232 [==============================] - 4s 18ms/step - loss: 2.8615e-04\n",
            "Epoch 199/250\n",
            "232/232 [==============================] - 4s 18ms/step - loss: 2.7093e-04\n",
            "Epoch 200/250\n",
            "232/232 [==============================] - 4s 18ms/step - loss: 2.9356e-04\n",
            "Epoch 201/250\n",
            "232/232 [==============================] - 4s 18ms/step - loss: 2.8269e-04\n",
            "Epoch 202/250\n",
            "232/232 [==============================] - 4s 18ms/step - loss: 2.8702e-04\n",
            "Epoch 203/250\n",
            "232/232 [==============================] - 4s 18ms/step - loss: 2.8295e-04\n",
            "Epoch 204/250\n",
            "232/232 [==============================] - 4s 17ms/step - loss: 2.7927e-04\n",
            "Epoch 205/250\n",
            "232/232 [==============================] - 4s 17ms/step - loss: 2.8433e-04\n",
            "Epoch 206/250\n",
            "232/232 [==============================] - 4s 18ms/step - loss: 2.8402e-04\n",
            "Epoch 207/250\n",
            "232/232 [==============================] - 4s 18ms/step - loss: 2.8279e-04\n",
            "Epoch 208/250\n",
            "232/232 [==============================] - 4s 18ms/step - loss: 2.8328e-04\n",
            "Epoch 209/250\n",
            "232/232 [==============================] - 4s 18ms/step - loss: 2.8012e-04\n",
            "Epoch 210/250\n",
            "232/232 [==============================] - 4s 18ms/step - loss: 2.8013e-04\n",
            "Epoch 211/250\n",
            "232/232 [==============================] - 4s 18ms/step - loss: 2.8646e-04\n",
            "Epoch 212/250\n",
            "232/232 [==============================] - 4s 18ms/step - loss: 2.8498e-04\n",
            "Epoch 213/250\n",
            "232/232 [==============================] - 4s 18ms/step - loss: 2.8193e-04\n",
            "Epoch 214/250\n",
            "232/232 [==============================] - 4s 18ms/step - loss: 2.7627e-04\n",
            "Epoch 215/250\n",
            "232/232 [==============================] - 4s 18ms/step - loss: 2.8206e-04\n",
            "Epoch 216/250\n",
            "232/232 [==============================] - 4s 18ms/step - loss: 2.9536e-04\n",
            "Epoch 217/250\n",
            "232/232 [==============================] - 4s 18ms/step - loss: 2.8220e-04\n",
            "Epoch 218/250\n",
            "232/232 [==============================] - 4s 19ms/step - loss: 2.7714e-04\n",
            "Epoch 219/250\n",
            "232/232 [==============================] - 4s 18ms/step - loss: 2.8570e-04\n",
            "Epoch 220/250\n",
            "232/232 [==============================] - 4s 18ms/step - loss: 2.8120e-04\n",
            "Epoch 221/250\n",
            "232/232 [==============================] - 4s 18ms/step - loss: 2.8464e-04\n",
            "Epoch 222/250\n",
            "232/232 [==============================] - 4s 18ms/step - loss: 2.9225e-04\n",
            "Epoch 223/250\n",
            "232/232 [==============================] - 4s 18ms/step - loss: 2.8080e-04\n",
            "Epoch 224/250\n",
            "232/232 [==============================] - 4s 18ms/step - loss: 2.7552e-04\n",
            "Epoch 225/250\n",
            "232/232 [==============================] - 4s 18ms/step - loss: 2.9338e-04\n",
            "Epoch 226/250\n",
            "232/232 [==============================] - 4s 18ms/step - loss: 2.8346e-04\n",
            "Epoch 227/250\n",
            "232/232 [==============================] - 4s 18ms/step - loss: 2.7458e-04\n",
            "Epoch 228/250\n",
            "232/232 [==============================] - 4s 18ms/step - loss: 2.8970e-04\n",
            "Epoch 229/250\n",
            "232/232 [==============================] - 4s 18ms/step - loss: 2.7582e-04\n",
            "Epoch 230/250\n",
            "232/232 [==============================] - 4s 18ms/step - loss: 2.8441e-04\n",
            "Epoch 231/250\n",
            "232/232 [==============================] - 4s 18ms/step - loss: 2.7342e-04\n",
            "Epoch 232/250\n",
            "232/232 [==============================] - 4s 18ms/step - loss: 2.8622e-04\n",
            "Epoch 233/250\n",
            "232/232 [==============================] - 4s 18ms/step - loss: 2.8147e-04\n",
            "Epoch 234/250\n",
            "232/232 [==============================] - 4s 18ms/step - loss: 2.7916e-04\n",
            "Epoch 235/250\n",
            "232/232 [==============================] - 4s 18ms/step - loss: 2.8639e-04\n",
            "Epoch 236/250\n",
            "232/232 [==============================] - 4s 18ms/step - loss: 2.7841e-04\n",
            "Epoch 237/250\n",
            "232/232 [==============================] - 4s 18ms/step - loss: 2.8078e-04\n",
            "Epoch 238/250\n",
            "232/232 [==============================] - 4s 18ms/step - loss: 2.7480e-04\n",
            "Epoch 239/250\n",
            "232/232 [==============================] - 4s 18ms/step - loss: 2.8370e-04\n",
            "Epoch 240/250\n",
            "232/232 [==============================] - 4s 18ms/step - loss: 2.9636e-04\n",
            "Epoch 241/250\n",
            "232/232 [==============================] - 4s 18ms/step - loss: 2.8242e-04\n",
            "Epoch 242/250\n",
            "232/232 [==============================] - 4s 18ms/step - loss: 2.7589e-04\n",
            "Epoch 243/250\n",
            "232/232 [==============================] - 4s 18ms/step - loss: 2.7396e-04\n",
            "Epoch 244/250\n",
            "232/232 [==============================] - 4s 18ms/step - loss: 2.8354e-04\n",
            "Epoch 245/250\n",
            "232/232 [==============================] - 4s 18ms/step - loss: 2.8418e-04\n",
            "Epoch 246/250\n",
            "232/232 [==============================] - 4s 18ms/step - loss: 2.7720e-04\n",
            "Epoch 247/250\n",
            "232/232 [==============================] - 4s 18ms/step - loss: 2.7824e-04\n",
            "Epoch 248/250\n",
            "232/232 [==============================] - 4s 18ms/step - loss: 2.8865e-04\n",
            "Epoch 249/250\n",
            "232/232 [==============================] - 4s 18ms/step - loss: 2.8237e-04\n",
            "Epoch 250/250\n",
            "232/232 [==============================] - 4s 18ms/step - loss: 2.7994e-04\n"
          ]
        }
      ]
    },
    {
      "cell_type": "code",
      "metadata": {
        "colab": {
          "base_uri": "https://localhost:8080/",
          "height": 295
        },
        "id": "jZnWnJdCL6Yz",
        "outputId": "58bc9eb7-19ff-4a1c-a392-7728a8f31189"
      },
      "source": [
        "plt.plot(history.history['loss']) \n",
        "plt.title('Model Loss')\n",
        "plt.ylabel('Loss')\n",
        "plt.xlabel('Epochs')\n",
        "plt.show()"
      ],
      "execution_count": null,
      "outputs": [
        {
          "output_type": "display_data",
          "data": {
            "image/png": "[encoded data removed]",
            "text/plain": [
              "<Figure size 432x288 with 1 Axes>"
            ]
          },
          "metadata": {
            "needs_background": "light"
          }
        }
      ]
    },
    {
      "cell_type": "code",
      "metadata": {
        "id": "crjEYmpORt_P"
      },
      "source": [
        "predicted_data3_modified=lstmModel2.predict(X_test)\n",
        "predicted_data3_modified=scaler.inverse_transform(predicted_data3_modified)"
      ],
      "execution_count": null,
      "outputs": []
    },
    {
      "cell_type": "code",
      "metadata": {
        "colab": {
          "base_uri": "https://localhost:8080/",
          "height": 309
        },
        "id": "QxvKStjqRuD-",
        "outputId": "63f97554-b430-4c00-c54f-cde0c1f8277b"
      },
      "source": [
        "plt.figure(figsize=(8,4), dpi=80, facecolor='w', edgecolor='k')\n",
        "plt.plot(test,color=\"DimGray\",label=\"Real values\", linestyle=\"dashed\")\n",
        "plt.plot(predicted_data3_modified,color=\"g\", label=\"LSTM predicted\")\n",
        "plt.legend()\n",
        "plt.xlabel(\"Days\")\n",
        "plt.ylabel(\"Values\")\n",
        "plt.grid(True)\n",
        "plt.show()"
      ],
      "execution_count": null,
      "outputs": [
        {
          "output_type": "display_data",
          "data": {
            "image/png": "[encoded data removed]",
            "text/plain": [
              "<Figure size 640x320 with 1 Axes>"
            ]
          },
          "metadata": {}
        }
      ]
    },
    {
      "cell_type": "code",
      "metadata": {
        "id": "AGSyxrETRuIp"
      },
      "source": [
        "path_test = \"//content/Google_Stock_Price_Test.csv\"\n",
        "test_data = pd.read_csv(path_test, sep =\",\")\n",
        "\n",
        "path_train = \"/content/Google_Stock_Price_Train.csv\"\n",
        "trainn_data = pd.read_csv(path_train,sep =\",\")"
      ],
      "execution_count": null,
      "outputs": []
    },
    {
      "cell_type": "code",
      "metadata": {
        "id": "mrIrPzORRuMI"
      },
      "source": [
        "real_stock_price = test_data.iloc[:,1:2].values\n",
        "training_set = trainn_data.iloc[:, 1:2].values"
      ],
      "execution_count": null,
      "outputs": []
    },
    {
      "cell_type": "code",
      "metadata": {
        "id": "9mPNSwZxKlz0"
      },
      "source": [
        "# Getting the predicted stock price of 2017\n",
        "dataset_total = pd.concat((trainn_data['Open'], test_data['Open']), axis = 0)\n",
        "inputs = dataset_total[len(dataset_total) - len(test_data) - 60:].values\n",
        "inputs = inputs.reshape(-1,1)\n",
        "inputs = scaler.transform(inputs)\n",
        "X_test = []\n",
        "for i in range(60, 80):\n",
        "    X_test.append(inputs[i-60:i, 0])\n",
        "X_test = np.array(X_test)\n",
        "X_test = np.reshape(X_test, (X_test.shape[0], X_test.shape[1], 1))\n",
        "predicted_stock_price = lstmModel2.predict(X_test)\n",
        "predicted_stock_price = scaler.inverse_transform(predicted_stock_price)"
      ],
      "execution_count": null,
      "outputs": []
    },
    {
      "cell_type": "code",
      "metadata": {
        "colab": {
          "base_uri": "https://localhost:8080/",
          "height": 295
        },
        "id": "1y-2GNG9Kqsl",
        "outputId": "bb1b967c-e618-4c3b-b8a9-1992fd81e8ec"
      },
      "source": [
        "# Visualising the results\n",
        "plt.plot(real_stock_price, color = 'red', label = 'Actual Google Stock Price')\n",
        "plt.plot(predicted_stock_price, color = 'blue', label = 'Predicted Google Stock Price LSTM')\n",
        "plt.title('Google Stock Price Prediction LSTM')\n",
        "plt.xlabel('Time')\n",
        "plt.ylabel('Actual Google Stock Price')\n",
        "plt.legend()\n",
        "plt.show()"
      ],
      "execution_count": null,
      "outputs": [
        {
          "output_type": "display_data",
          "data": {
            "image/png": "[encoded data removed]",
            "text/plain": [
              "<Figure size 432x288 with 1 Axes>"
            ]
          },
          "metadata": {
            "needs_background": "light"
          }
        }
      ]
    }
  ]
}