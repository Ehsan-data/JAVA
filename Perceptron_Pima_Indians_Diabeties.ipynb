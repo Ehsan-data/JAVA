{
  "nbformat": 4,
  "nbformat_minor": 0,
  "metadata": {
    "colab": {
      "name": "Perceptron-Pima Indians Diabeties.ipynb",
      "provenance": [],
      "collapsed_sections": [],
      "authorship_tag": "ABX9TyPI44yMpWS2BwUyO77/3tF+",
      "include_colab_link": true
    },
    "kernelspec": {
      "name": "python3",
      "display_name": "Python 3"
    },
    "language_info": {
      "name": "python"
    }
  },
  "cells": [
    {
      "cell_type": "markdown",
      "metadata": {
        "id": "view-in-github",
        "colab_type": "text"
      },
      "source": [
        "<a href=\"https://colab.research.google.com/github/Ehsan-data/JAVA/blob/master/Perceptron_Pima_Indians_Diabeties.ipynb\" target=\"_parent\"><img src=\"https://colab.research.google.com/assets/colab-badge.svg\" alt=\"Open In Colab\"/></a>"
      ]
    },
    {
      "cell_type": "code",
      "metadata": {
        "colab": {
          "base_uri": "https://localhost:8080/"
        },
        "id": "-xRT8LmWB3li",
        "outputId": "60ea441c-2aa4-4a16-b53d-c5187c197c5b"
      },
      "source": [
        "!pip install jovian opendatasets --upgrade --quiet\n"
      ],
      "execution_count": 7,
      "outputs": [
        {
          "output_type": "stream",
          "text": [
            "\u001b[?25l\r\u001b[K     |████▊                           | 10 kB 18.0 MB/s eta 0:00:01\r\u001b[K     |█████████▌                      | 20 kB 17.6 MB/s eta 0:00:01\r\u001b[K     |██████████████▎                 | 30 kB 21.8 MB/s eta 0:00:01\r\u001b[K     |███████████████████             | 40 kB 15.1 MB/s eta 0:00:01\r\u001b[K     |███████████████████████▉        | 51 kB 6.1 MB/s eta 0:00:01\r\u001b[K     |████████████████████████████▋   | 61 kB 5.6 MB/s eta 0:00:01\r\u001b[K     |████████████████████████████████| 68 kB 3.1 MB/s \n",
            "\u001b[?25h  Building wheel for uuid (setup.py) ... \u001b[?25l\u001b[?25hdone\n"
          ],
          "name": "stdout"
        }
      ]
    },
    {
      "cell_type": "code",
      "metadata": {
        "id": "ZW4gVAONNnvR"
      },
      "source": [
        "import pandas as pd\n",
        "import numpy as np\n",
        "from random import seed\n",
        "from random import random\n",
        "df=pd.read_table('https://www.csie.ntu.edu.tw/~cjlin/libsvmtools/datasets/binary/diabetes_scale',\n",
        "              sep=r'\\s+\\d+:', engine='python', header=None).loc[:,:]"
      ],
      "execution_count": 8,
      "outputs": []
    },
    {
      "cell_type": "code",
      "metadata": {
        "id": "qc7zEYDqAsVG"
      },
      "source": [
        "\n",
        "#set NaN to 0\n",
        "df.fillna(0, inplace=True)"
      ],
      "execution_count": 9,
      "outputs": []
    },
    {
      "cell_type": "code",
      "metadata": {
        "id": "MtigY4iMCJpB"
      },
      "source": [
        "from sklearn.model_selection import train_test_split\n",
        "X=df.loc[:,1:]\n",
        "y = df.loc[:,0:0]\n",
        "\n",
        "# TRAIN and TEST SPLIT\n",
        "\n",
        "def split(X,y):\n",
        "    return train_test_split(X, y, test_size=0.20, random_state=1)\n",
        "\n",
        "X_train, X_test, y_train, y_test=split(X,y)"
      ],
      "execution_count": 10,
      "outputs": []
    },
    {
      "cell_type": "code",
      "metadata": {
        "id": "_AVDAYIAOLdN"
      },
      "source": [
        "weights = np.random.random(8)\n",
        "learning_rate=.000001\n",
        "n_itter=160\n",
        "sum=0\n",
        "for t in range(n_itter):\n",
        "        for i in range(len(X_train)):\n",
        "            #activation \n",
        "            if y_train.iloc[i,0]*np.dot(X_train.iloc[i,::],weights)<0:\n",
        "                act_func=1\n",
        "            else:\n",
        "                act_func=0\n",
        "            sum=sum+act_func*(y_train.iloc[i,0]*X_train.iloc[i,::])\n",
        "            sum=sum.iloc[0]\n",
        "            #update weights\n",
        "        new_weights=weights+learning_rate*sum\n",
        "        weights=new_weights       \n",
        "#prediction  \n",
        "n_test = len(X_test)\n",
        "correct=0 \n",
        "Results = []\n",
        "accuracy_list = []\n",
        "for i in range(n_test):\n",
        "    if np.dot(X_test.iloc[i,::],weights)>0:\n",
        "        pred = 1\n",
        "        Results.append(1)\n",
        "    else:\n",
        "        pred = -1 \n",
        "        Results.append(-1)\n",
        "    if y_test.iloc[i,0]== pred:\n",
        "        correct=correct+1\n",
        "        \n",
        "    accuracy=correct*100/len(y_test)\n",
        "    accuracy_list.append(accuracy)\n",
        "\n"
      ],
      "execution_count": 18,
      "outputs": []
    },
    {
      "cell_type": "code",
      "metadata": {
        "colab": {
          "base_uri": "https://localhost:8080/",
          "height": 1000
        },
        "id": "ItuvlsXADgqY",
        "outputId": "43c6a908-2eb9-4dd9-eef4-c2c96c75e679"
      },
      "source": [
        "import matplotlib.pyplot as plt\n",
        "plt.plot(accuracy_list)\n",
        "accuracy_list"
      ],
      "execution_count": 19,
      "outputs": [
        {
          "output_type": "execute_result",
          "data": {
            "text/plain": [
              "[0.6493506493506493,\n",
              " 1.2987012987012987,\n",
              " 1.948051948051948,\n",
              " 2.5974025974025974,\n",
              " 3.2467532467532467,\n",
              " 3.896103896103896,\n",
              " 4.545454545454546,\n",
              " 5.194805194805195,\n",
              " 5.8441558441558445,\n",
              " 6.4935064935064934,\n",
              " 7.142857142857143,\n",
              " 7.792207792207792,\n",
              " 8.441558441558442,\n",
              " 8.441558441558442,\n",
              " 9.090909090909092,\n",
              " 9.090909090909092,\n",
              " 9.090909090909092,\n",
              " 9.74025974025974,\n",
              " 10.38961038961039,\n",
              " 11.03896103896104,\n",
              " 11.03896103896104,\n",
              " 11.03896103896104,\n",
              " 11.688311688311689,\n",
              " 11.688311688311689,\n",
              " 12.337662337662337,\n",
              " 12.987012987012987,\n",
              " 13.636363636363637,\n",
              " 13.636363636363637,\n",
              " 14.285714285714286,\n",
              " 14.285714285714286,\n",
              " 14.285714285714286,\n",
              " 14.935064935064934,\n",
              " 15.584415584415584,\n",
              " 15.584415584415584,\n",
              " 16.233766233766232,\n",
              " 16.233766233766232,\n",
              " 16.883116883116884,\n",
              " 17.532467532467532,\n",
              " 18.181818181818183,\n",
              " 18.83116883116883,\n",
              " 19.48051948051948,\n",
              " 20.12987012987013,\n",
              " 20.77922077922078,\n",
              " 20.77922077922078,\n",
              " 21.428571428571427,\n",
              " 22.07792207792208,\n",
              " 22.07792207792208,\n",
              " 22.07792207792208,\n",
              " 22.727272727272727,\n",
              " 22.727272727272727,\n",
              " 23.376623376623378,\n",
              " 24.025974025974026,\n",
              " 24.025974025974026,\n",
              " 24.675324675324674,\n",
              " 25.324675324675326,\n",
              " 25.974025974025974,\n",
              " 25.974025974025974,\n",
              " 26.623376623376622,\n",
              " 26.623376623376622,\n",
              " 27.272727272727273,\n",
              " 27.92207792207792,\n",
              " 28.571428571428573,\n",
              " 28.571428571428573,\n",
              " 29.22077922077922,\n",
              " 29.22077922077922,\n",
              " 29.87012987012987,\n",
              " 29.87012987012987,\n",
              " 29.87012987012987,\n",
              " 30.51948051948052,\n",
              " 30.51948051948052,\n",
              " 30.51948051948052,\n",
              " 31.16883116883117,\n",
              " 31.818181818181817,\n",
              " 32.467532467532465,\n",
              " 32.467532467532465,\n",
              " 32.467532467532465,\n",
              " 32.467532467532465,\n",
              " 33.116883116883116,\n",
              " 33.76623376623377,\n",
              " 33.76623376623377,\n",
              " 33.76623376623377,\n",
              " 34.41558441558441,\n",
              " 34.41558441558441,\n",
              " 34.41558441558441,\n",
              " 35.064935064935064,\n",
              " 35.714285714285715,\n",
              " 35.714285714285715,\n",
              " 36.36363636363637,\n",
              " 37.01298701298701,\n",
              " 37.66233766233766,\n",
              " 38.311688311688314,\n",
              " 38.96103896103896,\n",
              " 39.61038961038961,\n",
              " 40.25974025974026,\n",
              " 40.25974025974026,\n",
              " 40.90909090909091,\n",
              " 41.55844155844156,\n",
              " 42.20779220779221,\n",
              " 42.20779220779221,\n",
              " 42.857142857142854,\n",
              " 43.506493506493506,\n",
              " 44.15584415584416,\n",
              " 44.15584415584416,\n",
              " 44.8051948051948,\n",
              " 45.45454545454545,\n",
              " 46.103896103896105,\n",
              " 46.103896103896105,\n",
              " 46.753246753246756,\n",
              " 46.753246753246756,\n",
              " 47.4025974025974,\n",
              " 47.4025974025974,\n",
              " 48.05194805194805,\n",
              " 48.701298701298704,\n",
              " 49.35064935064935,\n",
              " 49.35064935064935,\n",
              " 50.0,\n",
              " 50.64935064935065,\n",
              " 50.64935064935065,\n",
              " 51.298701298701296,\n",
              " 51.298701298701296,\n",
              " 51.94805194805195,\n",
              " 51.94805194805195,\n",
              " 51.94805194805195,\n",
              " 52.5974025974026,\n",
              " 53.246753246753244,\n",
              " 53.896103896103895,\n",
              " 54.54545454545455,\n",
              " 54.54545454545455,\n",
              " 55.1948051948052,\n",
              " 55.84415584415584,\n",
              " 56.493506493506494,\n",
              " 57.142857142857146,\n",
              " 57.142857142857146,\n",
              " 57.79220779220779,\n",
              " 58.44155844155844,\n",
              " 59.09090909090909,\n",
              " 59.74025974025974,\n",
              " 60.38961038961039,\n",
              " 60.38961038961039,\n",
              " 61.03896103896104,\n",
              " 61.03896103896104,\n",
              " 61.688311688311686,\n",
              " 62.33766233766234,\n",
              " 62.33766233766234,\n",
              " 62.33766233766234,\n",
              " 62.33766233766234,\n",
              " 62.98701298701299,\n",
              " 63.63636363636363,\n",
              " 63.63636363636363,\n",
              " 64.28571428571429,\n",
              " 64.93506493506493,\n",
              " 64.93506493506493,\n",
              " 65.58441558441558,\n",
              " 66.23376623376623]"
            ]
          },
          "metadata": {},
          "execution_count": 19
        },
        {
          "output_type": "display_data",
          "data": {
            "image/png": "[encoded data removed]",
            "text/plain": [
              "<Figure size 432x288 with 1 Axes>"
            ]
          },
          "metadata": {
            "needs_background": "light"
          }
        }
      ]
    },
    {
      "cell_type": "code",
      "metadata": {
        "colab": {
          "base_uri": "https://localhost:8080/",
          "height": 282
        },
        "id": "jfbBLpT11RQ0",
        "outputId": "0bc52515-0ed2-4c7b-e25f-e54a55090787"
      },
      "source": [
        "import matplotlib.pyplot as plt\n",
        "plt.plot(accuracy_list)"
      ],
      "execution_count": 13,
      "outputs": [
        {
          "output_type": "execute_result",
          "data": {
            "text/plain": [
              "[<matplotlib.lines.Line2D at 0x7f09f10b5090>]"
            ]
          },
          "metadata": {},
          "execution_count": 13
        },
        {
          "output_type": "display_data",
          "data": {
            "image/png": "[encoded data removed]",
            "text/plain": [
              "<Figure size 432x288 with 1 Axes>"
            ]
          },
          "metadata": {
            "needs_background": "light"
          }
        }
      ]
    }
  ]
}